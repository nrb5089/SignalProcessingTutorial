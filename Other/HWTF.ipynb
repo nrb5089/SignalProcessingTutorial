{
 "cells": [
  {
   "cell_type": "markdown",
   "metadata": {
    "colab_type": "text",
    "id": "QDMOMToPjIKU"
   },
   "source": [
    "# Hello World for Tensorflow\n"
   ]
  },
  {
   "cell_type": "markdown",
   "metadata": {
    "colab_type": "text",
    "id": "-dIo3CKPhtIi"
   },
   "source": [
    "This module is designed to test whether or not these scripts can be run remotely on certain computers.  Please proceed through each cell below and try running the code  by pressing the $\\rhd$ on the left side.  We start by importing the tensorflow package and defining a tensor constant 'hello' which will be the test case of sorts.\n"
   ]
  },
  {
   "cell_type": "code",
   "execution_count": 1,
   "metadata": {
    "colab": {},
    "colab_type": "code",
    "id": "4ZTgdjGqhdub"
   },
   "outputs": [],
   "source": [
    "import tensorflow as tf\n",
    "hello = tf.constant('hello,tensorflow')"
   ]
  },
  {
   "cell_type": "code",
   "execution_count": 2,
   "metadata": {
    "colab": {},
    "colab_type": "code",
    "id": "NFyEuqUYhduf"
   },
   "outputs": [
    {
     "name": "stdout",
     "output_type": "stream",
     "text": [
      "Tensor(\"Const:0\", shape=(), dtype=string)\n"
     ]
    }
   ],
   "source": [
    "print(hello)"
   ]
  },
  {
   "cell_type": "markdown",
   "metadata": {
    "colab_type": "text",
    "id": "_Ku-7FzHlIzD"
   },
   "source": [
    "This should produce just information about the tensor 'hello' that we definedince all Tensorflow operations must be run in a Session (which runs within the C++ graph).  This is how it is able to efficiently utilize GPUs for parallel processing."
   ]
  },
  {
   "cell_type": "code",
   "execution_count": 3,
   "metadata": {
    "colab": {},
    "colab_type": "code",
    "id": "Q96F41T5hduj"
   },
   "outputs": [
    {
     "name": "stdout",
     "output_type": "stream",
     "text": [
      "b'hello,tensorflow'\n"
     ]
    }
   ],
   "source": [
    "with tf.Session() as sess:\n",
    "    print(sess.run(hello))"
   ]
  },
  {
   "cell_type": "markdown",
   "metadata": {
    "colab_type": "text",
    "id": "eNehOTkvlTuN"
   },
   "source": [
    "If this printed the string that we previously defined ('hello, tensorflow'), then we are in business."
   ]
  }
 ],
 "metadata": {
  "colab": {
   "collapsed_sections": [],
   "name": "Tensorflow_tutorial.ipynb",
   "provenance": [
    {
     "file_id": "1WWdRTBLzLue0UI0Gc7tn5vzrRoqmCv5l",
     "timestamp": 1562007574117
    }
   ],
   "version": "0.3.2"
  },
  "kernelspec": {
   "display_name": "Python 3",
   "language": "python",
   "name": "python3"
  },
  "language_info": {
   "codemirror_mode": {
    "name": "ipython",
    "version": 3
   },
   "file_extension": ".py",
   "mimetype": "text/x-python",
   "name": "python",
   "nbconvert_exporter": "python",
   "pygments_lexer": "ipython3",
   "version": "3.6.8"
  }
 },
 "nbformat": 4,
 "nbformat_minor": 1
}
