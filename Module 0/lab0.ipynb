{
 "cells": [
  {
   "cell_type": "markdown",
   "id": "a9c5f089",
   "metadata": {},
   "source": [
    "# Setting up Python environment\n",
    "\n",
    "Python should be installed on your machine under the C:\\Python\n",
    "\n",
    "# Recommended Development Environment Setup\n",
    "\n",
    "This is my environment I use, but feel free to use whatever makes sense.\n",
    "\n",
    "## Spyder, Pycharm, or some other IDE\n",
    "\n",
    "Contact IT for installation.\n",
    "\n",
    "## No frills CMD and Notepad++\n",
    "\n",
    "Open up the ```Command Prompt``` using any method you like (I press the ```Windows``` key and type ```cmd``` and hit ```enter```).  \n",
    "\n",
    "Create a batch file by typing"
   ]
  },
  {
   "cell_type": "code",
   "execution_count": null,
   "id": "4869e8f1",
   "metadata": {
    "attributes": {
     "classes": [
      "powershell"
     ],
     "id": ""
    }
   },
   "outputs": [],
   "source": [
    "notepad mysetup.bat"
   ]
  },
  {
   "cell_type": "markdown",
   "id": "2c7458ee",
   "metadata": {},
   "source": [
    "Place the following text in the batch file (Note that you may need to adjust the paths):"
   ]
  },
  {
   "cell_type": "code",
   "execution_count": null,
   "id": "b5a0217e",
   "metadata": {
    "attributes": {
     "classes": [
      "powershell"
     ],
     "id": ""
    }
   },
   "outputs": [],
   "source": [
    "@ECHO OFF\n",
    "DOSKEY py=\"<full path>/Python/python.exe\"\n",
    "DOSKEY npp=\"<full path>/Notepad++/notepad++.exe\""
   ]
  },
  {
   "cell_type": "markdown",
   "id": "65e58fd6",
   "metadata": {},
   "source": [
    "At the time of this writing, Python should be in ```C:``` and Notepad++ should be in either ```C:/Program Files``` or ```C:/Program Files x86``` on the associated DEV machines.  Save and/or save and close the batch file.  Type ```mysetup.bat```, this should initialize the cmd prompt to now use your short hand expressions ```py``` and ```npp``` for the respective programs.  Create a new ```.py``` file by typing ```npp hello_world.py```.  If ```Notepad++``` opens up with this new file, this portion works correctly.  Now add ```print('hello world!')``` to your new ```.py``` file.  Save and/or save and close the new ```hello_world.py``` file.  In the CMD Prompt, type ```py hello_world.py```.  If you received a message in the next line ```hello world!```, then everything is working.  \n",
    "\n",
    "**Note** : You will have to refresh ```mysetup.bat``` for each new CMD window openned.\n",
    "\n",
    "# Why Python?\n",
    "\n",
    "Python is a relatively easy programming language that we use for signal processing demonstration and prototyping of algorithms.  The key mathematics come from operations in linear algebra and concepts in statistics/probability.  We use the analogy of 1D and 2D arrays to correspond to vectors and matrices, respectively.  The following tutorial provides some basic arithmetic and implementation syntax, along with the mathematical equivalent statements.  \n",
    "\n",
    "# Using Numpy Arrays\n",
    "\n",
    "NumPy is a Python library used for working with arrays. It also has functions for working in the domain of linear algebra, fourier transform, and matrices.\n",
    "\n",
    "NumPy stands for 'Numerical Python' and comes with Python distributions such as Anaconda.\n",
    "\n",
    "\n",
    "## Importing and using NumPy\n",
    "\n",
    "Once NumPy is installed, you need to import it into your Python environment. You can do so with the following line of code:"
   ]
  },
  {
   "cell_type": "code",
   "execution_count": null,
   "id": "764da648",
   "metadata": {},
   "outputs": [],
   "source": [
    "import numpy as np"
   ]
  },
  {
   "cell_type": "markdown",
   "id": "03786087",
   "metadata": {},
   "source": [
    "We use `as np` so that we can refer to numpy with the shortened 'np' instead of typing out 'numpy' each time we want to use it.\n",
    "\n",
    "## Creating a NumPy array\n",
    "\n",
    "Vectors and Matrices are critical to understanding signal processing algorithms, we denote vectors as bold lower case $\\textbf{v}$ and matrices as bold upper case $\\textbf{M}$.  Tensors (informally, matrices with greater than 2 dimensions), are also represented by multidimensional arrays.  The starting example are all real elements, but extend to complex numbers as well.  Python/Numpy uses $1j$ or $1i$ to denote imaginary numbers, i.e., $1 + 2j$.  \n",
    "\n",
    "A numpy array is a grid of values, all of the same type, and is indexed by a tuple of nonnegative integers. \n",
    "\n",
    "You can create a numpy array from a Python list or tuple using the `array` function. Here's an example:"
   ]
  },
  {
   "cell_type": "code",
   "execution_count": null,
   "id": "f3a4a0b6",
   "metadata": {},
   "outputs": [],
   "source": [
    "import numpy as np\n",
    "\n",
    "## Creating a 1D array (Vector)\n",
    "v = np.array([1, 2, 3])\n",
    "print(v)\n",
    "\n",
    "## Creating a 2D array (Matrix)\n",
    "M = np.array([[1, 2, 3], [4, 5, 6]])\n",
    "print(M)\n",
    "\n",
    "## Creating a 3D array (Tensor)\n",
    "mytensor = np.array([[[1, 2, 3], [4, 5, 6]], [[7, 8, 9], [10, 11, 12]]])\n",
    "print(mytensor)"
   ]
  },
  {
   "cell_type": "markdown",
   "id": "8d9a06e7",
   "metadata": {},
   "source": [
    "## Array Indexing\n",
    "The $n$th element of a vector may be denoted as $v[n]$ or $v_n$.  We will denote this in unbolded since it is scalar, i.e., $\\textbf{v} = [v_0,\\dots,v_n,\\dots]$.\n",
    "\n",
    "You can access the array elements as:"
   ]
  },
  {
   "cell_type": "code",
   "execution_count": null,
   "id": "d3e50343",
   "metadata": {},
   "outputs": [],
   "source": [
    "import numpy as np\n",
    "\n",
    "v = np.array([1, 2, 3, 4, 5])\n",
    "\n",
    "print(v[1])  # Output: 2\n",
    "print(v[2] + v[3])  # Output: 7"
   ]
  },
  {
   "cell_type": "markdown",
   "id": "45ffba8c",
   "metadata": {},
   "source": [
    "Likewise for matrices $M[m,n]$ or $M_{m,n}$ denotes the element in row $m$ and column $n$.\n",
    "For 2D arrays, you need to use comma-separated indices:"
   ]
  },
  {
   "cell_type": "code",
   "execution_count": null,
   "id": "204f5dab",
   "metadata": {},
   "outputs": [],
   "source": [
    "import numpy as np\n",
    "\n",
    "M = np.array([[1,2,3,4,5], [6,7,8,9,10]])\n",
    "\n",
    "# Accessing the element at 1st row and 2nd column\n",
    "print(M[1, 2])  # Output: 8"
   ]
  },
  {
   "cell_type": "markdown",
   "id": "823df9b1",
   "metadata": {},
   "source": [
    "## Array Slicing\n",
    "\n",
    "Slices of vectors or matrices are denoted $\\textbf{v}[m:n]$ or $\\textbf{v}_{m:n}$, and for matrices, $\\textbf{M}[m:n,p:q]$ or $\\textbf{M}_{m:n,p:q}$.\n",
    "NumPy arrays can be sliced, You can slice a NumPy array like this:"
   ]
  },
  {
   "cell_type": "code",
   "execution_count": null,
   "id": "89987066",
   "metadata": {},
   "outputs": [],
   "source": [
    "import numpy as np\n",
    "\n",
    "v = np.array([1, 2, 3, 4, 5, 6, 7])\n",
    "\n",
    "print(v[1:5])  # Output: array([2, 3, 4, 5])"
   ]
  },
  {
   "cell_type": "markdown",
   "id": "5e0c1440",
   "metadata": {},
   "source": [
    "For 2D arrays, it works similarly:"
   ]
  },
  {
   "cell_type": "code",
   "execution_count": null,
   "id": "43c5eb7e",
   "metadata": {},
   "outputs": [],
   "source": [
    "import numpy as np\n",
    "\n",
    "M = np.array([[1,2,3,4,5], [6,7,8,9,10]])\n",
    "\n",
    "# Accessing the first 2 elements of the first 2 rows\n",
    "print(M[0:2, 0:2])  # Output: array([[1, 2], [6, 7]])"
   ]
  },
  {
   "cell_type": "markdown",
   "id": "3bfc02f9",
   "metadata": {},
   "source": [
    "## Basic Array Operations\n",
    "\n",
    "You can perform element-wise operations on arrays like addition, subtraction, etc."
   ]
  },
  {
   "cell_type": "code",
   "execution_count": null,
   "id": "6e70a9a8",
   "metadata": {},
   "outputs": [],
   "source": [
    "import numpy as np\n",
    "\n",
    "arr1 = np.array([1, 2, 3\n",
    "\n",
    "])\n",
    "arr2 = np.array([4, 5, 6])\n",
    "\n",
    "## Addition\n",
    "print(arr1 + arr2)  # Output: array([5, 7, 9])\n",
    "\n",
    "## Multiplication\n",
    "print(arr1 * arr2)  # Output: array([ 4, 10, 18])\n",
    "\n",
    "## Subtraction\n",
    "print(arr1 - arr2)  # Output: array([-3, -3, -3])\n",
    "\n",
    "## Division\n",
    "print(arr1 / arr2)  # Output: array([0.25, 0.4 , 0.5 ])"
   ]
  },
  {
   "cell_type": "markdown",
   "id": "f47211b7",
   "metadata": {},
   "source": [
    "## Mathematical Functions\n",
    "\n",
    "NumPy provides standard mathematical functions like sin, cos, exp, etc. These functions operate element-wise on an array, producing an array as output."
   ]
  },
  {
   "cell_type": "code",
   "execution_count": null,
   "id": "cfbe2b58",
   "metadata": {},
   "outputs": [],
   "source": [
    "import numpy as np\n",
    "\n",
    "arr = np.array([0, 30, 45, 60, 90])\n",
    "\n",
    "## Convert to radians by multiplying by pi/180\n",
    "arr_radians = arr * np.pi / 180\n",
    "\n",
    "print(np.sin(arr_radians))"
   ]
  },
  {
   "cell_type": "markdown",
   "id": "e69dabc2",
   "metadata": {},
   "source": [
    "## Statistical Functions\n",
    "\n",
    "NumPy provides functions to calculate statistical metrics like mean, median, standard deviation, etc."
   ]
  },
  {
   "cell_type": "code",
   "execution_count": null,
   "id": "b0341b84",
   "metadata": {},
   "outputs": [],
   "source": [
    "import numpy as np\n",
    "\n",
    "arr = np.array([1,2,3,4,5])\n",
    "\n",
    "# Mean\n",
    "print(np.mean(arr))  # Output: 3.0\n",
    "\n",
    "# Median\n",
    "print(np.median(arr))  # Output: 3.0\n",
    "\n",
    "# Standard Deviation\n",
    "print(np.std(arr))  # Output: 1.4142135623730951"
   ]
  },
  {
   "cell_type": "markdown",
   "id": "12a40812",
   "metadata": {},
   "source": [
    "Remember, this is just a basic tutorial and NumPy offers many more features and functions. For a comprehensive understanding, you should refer to the official documentation, https://numpy.org/doc/.\n",
    "\n",
    "# Linear Algebra Operations\n",
    "Here are a few linear algebra operations related to using NumPy arrays in the context of linear algebra:\n",
    "\n",
    "## Matrix-Vector Multiplication\n",
    "3x3 matrix, $\\textbf{A}$, and a 3x1 vector, $\\textbf{v}$. Perform matrix-vector multiplication."
   ]
  },
  {
   "cell_type": "code",
   "execution_count": null,
   "id": "894d491e",
   "metadata": {},
   "outputs": [],
   "source": [
    "import numpy as np\n",
    "\n",
    "# Define a 3x3 matrix\n",
    "A = np.array([[1, 2, 3], \n",
    "              [4, 5, 6], \n",
    "              [7, 8, 9]])\n",
    "\n",
    "# Define a 3x1 vector\n",
    "v = np.array([2, 1, 3])\n",
    "\n",
    "\n",
    "# Multiply the matrix and vector\n",
    "result = A @ v\n",
    "\n",
    "print(result)"
   ]
  },
  {
   "cell_type": "markdown",
   "id": "8da20448",
   "metadata": {},
   "source": [
    "## Matrix-Matrix Multiplication\n",
    "3x3 matrices, $\\textbf{A}$, $\\textbf{B}$, compute the element-wise (Hadamard) product $\\textbf{A}\\circ\\textbf{B}$ and the more common matrix-matrix multiplciation $\\textbf{A}\\textbf{B}$.  When we talk about matrix-matrix multplication, we always mean the latter here, but will be denoted with $\\circ$ otherwise."
   ]
  },
  {
   "cell_type": "code",
   "execution_count": null,
   "id": "bb6a0c32",
   "metadata": {},
   "outputs": [],
   "source": [
    "import numpy as np\n",
    "\n",
    "# Define two 3x3 matrices\n",
    "A = np.array([[1, 2, 3], \n",
    "              [4, 5, 6], \n",
    "              [7, 8, 9]])\n",
    "\n",
    "B = np.array([[10, 11, 12], \n",
    "              [13, 14, 15], \n",
    "              [16, 17, 18]])\n",
    "\n",
    "# Perform element-wise (Hadamard) product \n",
    "result_dot = A * B\n",
    "\n",
    "print(\"Result using dot function:\\n\", result_dot)\n",
    "\n",
    "# Perform matrix multiplication using the @ operator\n",
    "result_operator = A @ B\n",
    "\n",
    "print(\"Result using @ operator:\\n\", result_operator)"
   ]
  },
  {
   "cell_type": "markdown",
   "id": "1e4d5e7f",
   "metadata": {},
   "source": [
    "## Complex Numbers\n",
    "\n",
    "Python has built-in support for complex numbers, which are written with a \"j\" as the imaginary part. Here's a quick introduction:"
   ]
  },
  {
   "cell_type": "code",
   "execution_count": null,
   "id": "1bc82bf9",
   "metadata": {},
   "outputs": [],
   "source": [
    "# Creating complex numbers\n",
    "x = 3 + 4j\n",
    "y = 2 - 3j\n",
    "\n",
    "# Real and Imaginary parts\n",
    "print(x.real)  # Outputs: 3.0\n",
    "print(x.imag)  # Outputs: 4.0\n",
    "\n",
    "# Conjugate\n",
    "print(x.conjugate())  # Outputs: (3-4j)\n",
    "\n",
    "# Magnitude\n",
    "magnitude = abs(x)\n",
    "print(magnitude)  # Outputs: 5.0\n",
    "\n",
    "# Addition\n",
    "z = x + y\n",
    "print(z)  # Outputs: (5+1j)\n",
    "\n",
    "# Subtraction\n",
    "z = x - y\n",
    "print(z)  # Outputs: (1+7j)\n",
    "\n",
    "# Multiplication\n",
    "z = x * y\n",
    "print(z)  # Outputs: (18+1j)\n",
    "\n",
    "# Division\n",
    "z = x / y\n",
    "print(z)  # Outputs: (-0.15384615384615385+1.2307692307692308j)"
   ]
  },
  {
   "cell_type": "markdown",
   "id": "2edb1a1b",
   "metadata": {},
   "source": [
    "You can do other operations like power and roots as well, but these will need to be done in modules like `numpy` or `cmath`.  A complex number is generally represented as: $z = a + bj $, where $ a $ and $ b $ are real numbers, and $ j $ is the imaginary unit with the property $ j^2 = -1 $.\n",
    "\n",
    "1. **Real part:** $ \\Re(z) = a $\n",
    "\n",
    "2. **Imaginary part:** $ \\Im(z) = b $\n",
    "\n",
    "3. **Complex conjugate:** $ z^* = a - bj $\n",
    "\n",
    "4. **Magnitude (or absolute value) of a complex number:** $ |z| = \\sqrt{a^2 + b^2} $\n",
    "\n",
    "5. **Addition of complex numbers:** if $ z_1 = a + bj $ and $ z_2 = c + dj $, then $ z_1 + z_2 = (a + c) + (b + d)j $\n",
    "\n",
    "6. **Subtraction of complex numbers:** if $ z_1 = a + bj $ and $ z_2 = c + dj $, then $ z_1 - z_2 = (a - c) + (b - d)j $\n",
    "\n",
    "7. **Multiplication of complex numbers:** if $ z_1 = a + bj $ and $ z_2 = c + dj $, then $ z_1 \\cdot z_2 = (ac - bd) + (ad + bc)j $\n",
    "\n",
    "8. **Division of complex numbers:** if $ z_1 = a + bj $ and $ z_2 = c + dj $, then $ \\frac{z_1}{z_2} = \\frac{(ac + bd)}{(c^2 + d^2)} + \\frac{(bc - ad)j}{(c^2 + d^2)} $\n",
    "\n",
    "This should cover the basic operations you can perform with complex numbers both in Python and in mathematical notation.\n",
    "\n",
    "## Transpose and Hermitian\n",
    "Compute the transpose, $\\textbf{A}^T$, and Hermitian (conjugate transpose), $\\textbf{C}^H$ of a matrix."
   ]
  },
  {
   "cell_type": "code",
   "execution_count": null,
   "id": "b7623900",
   "metadata": {},
   "outputs": [],
   "source": [
    "import numpy as np\n",
    "\n",
    "# Define a Real 3x2 matrix\n",
    "A = np.array([[1, 2], \n",
    "              [3, 4], \n",
    "              [5, 6]])\n",
    "\n",
    "#Complex Portion\n",
    "B = 1j * np.array([[7,8],\n",
    "                    [9,10],\n",
    "                    [11,12]])\n",
    "                    \n",
    "C = A + B\n",
    "\n",
    "# Compute the transpose\n",
    "A_T = np.transpose(A) #alternatively A_T = A.T\n",
    "\n",
    "#Hermitian \n",
    "C_H = np.conj(np.transpose(C))\n",
    "print(A_T)\n",
    "print(C_H)"
   ]
  },
  {
   "cell_type": "markdown",
   "id": "d108135d",
   "metadata": {},
   "source": [
    "## Inverse\n",
    "Compute the inverse of a matrix, $\\textbf{A}^{-1}$."
   ]
  },
  {
   "cell_type": "code",
   "execution_count": null,
   "id": "d674a031",
   "metadata": {},
   "outputs": [],
   "source": [
    "import numpy as np\n",
    "\n",
    "# Define a 3x3 matrix\n",
    "A = np.array([[1, 2, 1], \n",
    "              [3, 2, 1], \n",
    "              [1, 1, 2]])\n",
    "\n",
    "# Compute the inverse\n",
    "A_inv = np.linalg.inv(A)\n",
    "\n",
    "print(A_inv)"
   ]
  },
  {
   "cell_type": "markdown",
   "id": "829c55d0",
   "metadata": {},
   "source": [
    "## Determinant\n",
    "Compute the determinant of a matrix, $\\textrm{det}(\\textbf{A})$."
   ]
  },
  {
   "cell_type": "code",
   "execution_count": null,
   "id": "5e031b8b",
   "metadata": {},
   "outputs": [],
   "source": [
    "import numpy as np\n",
    "\n",
    "# Define a 3x3 matrix\n",
    "A = np.array([[1, 2, 3], \n",
    "              [4, 5, 6], \n",
    "              [7, 8, 9]])\n",
    "\n",
    "# Compute the determinant\n",
    "det_A = np.linalg.det(A)\n",
    "\n",
    "print(det_A)"
   ]
  },
  {
   "cell_type": "markdown",
   "id": "faf62c8f",
   "metadata": {},
   "source": [
    "## Solve the System of Linear Equations \n",
    "$3x + y = 9$ and $x + 2y = 8$."
   ]
  },
  {
   "cell_type": "code",
   "execution_count": null,
   "id": "590053d3",
   "metadata": {},
   "outputs": [],
   "source": [
    "import numpy as np\n",
    "\n",
    "# Define the system's matrix\n",
    "A = np.array([[3, 1],\n",
    "              [1, 2]])\n",
    "\n",
    "# Define the constant vector\n",
    "b = np.array([9, 8])\n",
    "\n",
    "# Solve for [x, y]\n",
    "x = np.linalg.solve(A, b)\n",
    "\n",
    "print(x)"
   ]
  },
  {
   "cell_type": "markdown",
   "id": "80ec41bc",
   "metadata": {},
   "source": [
    "## Eigenvalue Decomposition\n",
    "\n",
    "Find the eigenvalues and eigenvectors of a matrix, $A = \\textbf{V}\\textbf{D}\\textbf{V}^T$."
   ]
  },
  {
   "cell_type": "code",
   "execution_count": null,
   "id": "adce1f19",
   "metadata": {},
   "outputs": [],
   "source": [
    "import numpy as np\n",
    "\n",
    "# Define a 2x2 matrix\n",
    "A = np.array([[4, 1], \n",
    "              [2, 3]])\n",
    "\n",
    "# Compute the eigenvalues and eigenvectors\n",
    "D, V = np.linalg.eig(A)\n",
    "\n",
    "print(\"Eigenvalues:\", D)\n",
    "print(\"Eigenvectors:\", V)"
   ]
  },
  {
   "cell_type": "markdown",
   "id": "6d24438f",
   "metadata": {},
   "source": [
    "Numpy includes just about any linear algebraic operation you would require, definitely check out the documentation [4].  Additionally, more detail on matrix algebra and computations involving them can be found in [1,2].  The original Numpy paper is [3].\n",
    "\n",
    "Further reading:\n",
    "\n",
    "[1] Golub, Gene H., and Charles F. Van Loan. Matrix computations. JHU press, 2013.\n",
    "\n",
    "[2] Strang, Gilbert. Linear algebra and its applications. 2012.\n",
    "\n",
    "[3] Harris, C.R., Millman, K.J., van der Walt, S.J. et al. Array programming with NumPy. Nature 585, 357–362 (2020). DOI: 10.1038/s41586-020-2649-2. (Publisher link).\n",
    "\n",
    "[4] https://numpy.org/doc/stable/user/index.html#user"
   ]
  }
 ],
 "metadata": {},
 "nbformat": 4,
 "nbformat_minor": 5
}
