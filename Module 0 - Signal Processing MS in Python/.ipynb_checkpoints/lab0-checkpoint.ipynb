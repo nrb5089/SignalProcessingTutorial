{
 "cells": [
  {
   "cell_type": "markdown",
   "id": "fe4ac17b",
   "metadata": {},
   "source": [
    "# Setting up Python environment\n",
    "\n",
    "Python should be installed on your machine under the C:\\Python\n",
    "\n",
    "# Recommended Development Environment Setup\n",
    "This is my environment I use, but feel free to use whatever makes sense.\n",
    "\n",
    "## Spyder, Pycharm, or some other IDE\n",
    "Contact IT for installation.\n",
    "\n",
    "## No frills CMD and Notepad++\n",
    "Open up the ```Command Prompt``` using any method you like (I press the ```Windows``` key and type ```cmd``` and hit ```enter```).  \n",
    "\t\n",
    "Create a batch file by typing"
   ]
  },
  {
   "cell_type": "code",
   "execution_count": null,
   "id": "57d38988",
   "metadata": {},
   "outputs": [],
   "source": [
    "\t\n",
    "Place the following text in the batch file (Note that you may need to adjust the paths):\n",
    "\t"
   ]
  },
  {
   "cell_type": "markdown",
   "id": "c212adf2",
   "metadata": {},
   "source": [
    "@ECHO OFF\n",
    "\tDOSKEY py=\"<full path>\\Python\\python.exe\"\n",
    "\tDOSKEY npp=\"<full path>\\Notepad++\\notepad++.exe\""
   ]
  },
  {
   "cell_type": "code",
   "execution_count": null,
   "id": "d18cd82d",
   "metadata": {},
   "outputs": [],
   "source": [
    "\n",
    "At the time of this writing, Python should be in ```C:``` and Notepad++ should be in either ```C:\\Program Files``` or ```C:\\Program Files x86``` on the associated DEV machines.  Save and/or save and close the batch file.\n",
    "\n",
    "Type ```mysetup.bat```, this should initialize the cmd prompt to now use your short hand expressions ```py``` and ```npp``` for the respective programs.  Create a new ```.py``` file by typing \n",
    "\t\n",
    "```npp hello_world.py```\n",
    "\t\n",
    "If ```Notepad++``` opens up with this new file, this portion works correctly.  Now add \n",
    "\t\n",
    "```print('hello world!')```\n",
    "\t\n",
    "to your new ```.py``` file.  Save and/or save and close the new ```hello_world.py``` file.  In the CMD Prompt, type \n",
    "\t\n",
    "```py hello_world.py``` \n",
    "\t\n",
    "if you received a message in the next line ```hello world!```, then everything is working.  \n",
    "\t\n",
    "**Note** : You will have to refresh ```mysetup.bat``` for each new CMD window openned.\n",
    "\t\n",
    "# Why Python?\n",
    "Python is a relatively easy programming language that we use for signal processing demonstration and prototyping of algorithms.  The key mathematics come from operations in linear algebra and concepts in statistics/probability.  We use the analogy of 1D and 2D arrays to correspond to vectors and matrices, respectively.  The following tutorial provides some basic arithmetic and implementation syntax, along with the mathematical equivalent statements.  \n",
    "\n",
    "# Using Numpy Arrays\n",
    "\n",
    "NumPy is a Python library used for working with arrays. It also has functions for working in the domain of linear algebra, fourier transform, and matrices.\n",
    "\n",
    "NumPy stands for 'Numerical Python' and comes with Python distributions such as Anaconda.\n",
    "\n",
    "\n",
    "## Importing and using NumPy\n",
    "\n",
    "Once NumPy is installed, you need to import it into your Python environment. You can do so with the following line of code:\n",
    "\n",
    "```python\n",
    "import numpy as np"
   ]
  },
  {
   "cell_type": "markdown",
   "id": "c6eace98",
   "metadata": {},
   "source": [
    "We use `as np` so that we can refer to numpy with the shortened 'np' instead of typing out 'numpy' each time we want to use it.\n",
    "\n",
    "## Creating a NumPy array\n",
    "\n",
    "Vectors and Matrices are critical to understanding signal processing algorithms, we denote vectors as bold lower case $\\textbf{v}$ and matrices as bold upper case $\\textbf{M}$.  Tensors (informally, matrices with greater than 2 dimensions), are also represented by multidimensional arrays.  The starting example are all real elements, but extend to complex numbers as well.  Python/Numpy uses $1j$ or $1i$ to denote imaginary numbers, i.e., $1 + 2j$.  \n",
    "\n",
    "A numpy array is a grid of values, all of the same type, and is indexed by a tuple of nonnegative integers. \n",
    "\n",
    "You can create a numpy array from a Python list or tuple using the `array` function. Here's an example:"
   ]
  },
  {
   "cell_type": "code",
   "execution_count": 1,
   "id": "7c103c10",
   "metadata": {},
   "outputs": [
    {
     "name": "stdout",
     "output_type": "stream",
     "text": [
      "[1 2 3]\n",
      "[[1 2 3]\n",
      " [4 5 6]]\n",
      "[[[ 1  2  3]\n",
      "  [ 4  5  6]]\n",
      "\n",
      " [[ 7  8  9]\n",
      "  [10 11 12]]]\n"
     ]
    }
   ],
   "source": [
    "import numpy as np\n",
    "\n",
    "## Creating a 1D array (Vector)\n",
    "v = np.array([1, 2, 3])\n",
    "print(v)\n",
    "\n",
    "## Creating a 2D array (Matrix)\n",
    "M = np.array([[1, 2, 3], [4, 5, 6]])\n",
    "print(M)\n",
    "\n",
    "## Creating a 3D array (Tensor)\n",
    "mytensor = np.array([[[1, 2, 3], [4, 5, 6]], [[7, 8, 9], [10, 11, 12]]])\n",
    "print(mytensor)"
   ]
  },
  {
   "cell_type": "markdown",
   "id": "60d63055",
   "metadata": {},
   "source": [
    "## Array Indexing\n",
    "The $n$th element of a vector may be denoted as $v[n]$ or $v_n$.  We will denote this in unbolded since it is scalar, i.e., $\\textbf{v} = [v_0,\\dots,v_n,\\dots]$.\n",
    "\n",
    "You can access the array elements as:"
   ]
  },
  {
   "cell_type": "code",
   "execution_count": null,
   "id": "9a954f35",
   "metadata": {},
   "outputs": [],
   "source": [
    "import numpy as np\n",
    "\n",
    "v = np.array([1, 2, 3, 4, 5])\n",
    "\n",
    "print(v[1])  # Output: 2\n",
    "print(v[2] + v[3])  # Output: 7"
   ]
  },
  {
   "cell_type": "markdown",
   "id": "6c198cae",
   "metadata": {},
   "source": [
    "Likewise for matrices $M[m,n]$ or $M_{m,n}$ denotes the element in row $m$ and column $n$.\n",
    "For 2D arrays, you need to use comma-separated indices:"
   ]
  },
  {
   "cell_type": "code",
   "execution_count": null,
   "id": "c3606162",
   "metadata": {},
   "outputs": [],
   "source": [
    "import numpy as np\n",
    "\n",
    "M = np.array([[1,2,3,4,5], [6,7,8,9,10]])\n",
    "\n",
    "# Accessing the element at 1st row and 2nd column\n",
    "print(M[1, 2])  # Output: 8"
   ]
  },
  {
   "cell_type": "markdown",
   "id": "2f157f18",
   "metadata": {},
   "source": [
    "## Array Slicing\n",
    "\n",
    "Slices of vectors or matrices are denoted $\\textbf{v}[m:n]$ or $\\textbf_{m:n}$, and for matrices, $\\textbf{M}[m:n,p:q]$ or $\\textbf{M}_{m:n,p:q}$.\n",
    "NumPy arrays can be sliced, You can slice a NumPy array like this:"
   ]
  },
  {
   "cell_type": "code",
   "execution_count": null,
   "id": "a4b8a833",
   "metadata": {},
   "outputs": [],
   "source": [
    "import numpy as np\n",
    "\n",
    "v = np.array([1, 2, 3, 4, 5, 6, 7])\n",
    "\n",
    "print(v[1:5])  # Output: array([2, 3, 4, 5])"
   ]
  },
  {
   "cell_type": "markdown",
   "id": "69f84964",
   "metadata": {},
   "source": [
    "For 2D arrays, it works similarly:"
   ]
  },
  {
   "cell_type": "code",
   "execution_count": null,
   "id": "9d9bdcf3",
   "metadata": {},
   "outputs": [],
   "source": [
    "import numpy as np\n",
    "\n",
    "M = np.array([[1,2,3,4,5], [6,7,8,9,10]])\n",
    "\n",
    "# Accessing the first 2 elements of the first 2 rows\n",
    "print(M[0:2, 0:2])  # Output: array([[1, 2], [6, 7]])"
   ]
  },
  {
   "cell_type": "markdown",
   "id": "5dd54974",
   "metadata": {},
   "source": [
    "## Basic Array Operations\n",
    "\n",
    "You can perform element-wise operations on arrays like addition, subtraction, etc."
   ]
  },
  {
   "cell_type": "code",
   "execution_count": null,
   "id": "f94d38f7",
   "metadata": {},
   "outputs": [],
   "source": [
    "import numpy as np\n",
    "\n",
    "arr1 = np.array([1, 2, 3\n",
    "\n",
    "])\n",
    "arr2 = np.array([4, 5, 6])\n",
    "\n",
    "## Addition\n",
    "print(arr1 + arr2)  # Output: array([5, 7, 9])\n",
    "\n",
    "## Multiplication\n",
    "print(arr1 * arr2)  # Output: array([ 4, 10, 18])\n",
    "\n",
    "## Subtraction\n",
    "print(arr1 - arr2)  # Output: array([-3, -3, -3])\n",
    "\n",
    "## Division\n",
    "print(arr1 / arr2)  # Output: array([0.25, 0.4 , 0.5 ])"
   ]
  },
  {
   "cell_type": "markdown",
   "id": "cd85f947",
   "metadata": {},
   "source": [
    "## Mathematical Functions\n",
    "\n",
    "NumPy provides standard mathematical functions like sin, cos, exp, etc. These functions operate element-wise on an array, producing an array as output."
   ]
  },
  {
   "cell_type": "code",
   "execution_count": null,
   "id": "84f042d1",
   "metadata": {},
   "outputs": [],
   "source": [
    "import numpy as np\n",
    "\n",
    "arr = np.array([0, 30, 45, 60, 90])\n",
    "\n",
    "## Convert to radians by multiplying by pi/180\n",
    "arr_radians = arr * np.pi / 180\n",
    "\n",
    "print(np.sin(arr_radians))"
   ]
  },
  {
   "cell_type": "markdown",
   "id": "fe1c6d0c",
   "metadata": {},
   "source": [
    "## Statistical Functions\n",
    "\n",
    "NumPy provides functions to calculate statistical metrics like mean, median, standard deviation, etc."
   ]
  },
  {
   "cell_type": "code",
   "execution_count": null,
   "id": "a3f93b8c",
   "metadata": {},
   "outputs": [],
   "source": [
    "import numpy as np\n",
    "\n",
    "arr = np.array([1,2,3,4,5])\n",
    "\n",
    "# Mean\n",
    "print(np.mean(arr))  # Output: 3.0\n",
    "\n",
    "# Median\n",
    "print(np.median(arr))  # Output: 3.0\n",
    "\n",
    "# Standard Deviation\n",
    "print(np.std(arr))  # Output: 1.4142135623730951"
   ]
  },
  {
   "cell_type": "markdown",
   "id": "bb5223ef",
   "metadata": {},
   "source": [
    "Remember, this is just a basic tutorial and NumPy offers many more features and functions. For a comprehensive understanding, you should refer to the official documentation, https://numpy.org/doc/.\n",
    "\n",
    "#Linear Algebra Operations\n",
    "Here are a few linear algebra operations related to using NumPy arrays in the context of linear algebra:\n",
    "\n",
    "## Matrix-Vector Multiplication\n",
    "3x3 matrix, $\\textbf{A}$, and a 3x1 vector, $\\textbf{v}$. Perform matrix-vector multiplication."
   ]
  },
  {
   "cell_type": "code",
   "execution_count": null,
   "id": "da5696d3",
   "metadata": {},
   "outputs": [],
   "source": [
    "import numpy as np\n",
    "\n",
    "# Define a 3x3 matrix\n",
    "A = np.array([[1, 2, 3], \n",
    "              [4, 5, 6], \n",
    "              [7, 8, 9]])\n",
    "\n",
    "# Define a 3x1 vector\n",
    "v = np.array([2, 1, 3])\n",
    "\n",
    "\n",
    "# Multiply the matrix and vector\n",
    "result = A @ v\n",
    "\n",
    "print(result)"
   ]
  },
  {
   "cell_type": "markdown",
   "id": "7baefec5",
   "metadata": {},
   "source": [
    "## Matrix-Matrix Multiplication\n",
    "3x3 matrices, $\\textbf{A}$, $\\textbf{B}$, compute the element-wise (Hadamard) product $\\textbf{A}\\circ\\textbf{B}$ and the more common matrix-matrix multiplciation $\\textbf{A}\\textbf{B}$.  When we talk about matrix-matrix multplication, we always mean the latter here, but will be denoted with $\\circ$ otherwise."
   ]
  },
  {
   "cell_type": "code",
   "execution_count": null,
   "id": "7af04263",
   "metadata": {},
   "outputs": [],
   "source": [
    "import numpy as np\n",
    "\n",
    "# Define two 3x3 matrices\n",
    "A = np.array([[1, 2, 3], \n",
    "              [4, 5, 6], \n",
    "              [7, 8, 9]])\n",
    "\n",
    "B = np.array([[10, 11, 12], \n",
    "              [13, 14, 15], \n",
    "              [16, 17, 18]])\n",
    "\n",
    "# Perform element-wise (Hadamard) product \n",
    "result_dot = A * B\n",
    "\n",
    "print(\"Result using dot function:\\n\", result_dot)\n",
    "\n",
    "# Perform matrix multiplication using the @ operator\n",
    "result_operator = A @ B\n",
    "\n",
    "print(\"Result using @ operator:\\n\", result_operator)"
   ]
  },
  {
   "cell_type": "markdown",
   "id": "ee6da6b6",
   "metadata": {},
   "source": [
    "## Transpose and Hermitian\n",
    "Compute the transpose, $\\textbf{A}^T$, and Hermitian (conjugate transpose), $\\textbf{C}^H$ of a matrix.  Note below that $j = \\sqrt{-1}$, because I'm an electrical engineer and enjoy annoying folks who use $i$."
   ]
  },
  {
   "cell_type": "code",
   "execution_count": null,
   "id": "02139da1",
   "metadata": {},
   "outputs": [],
   "source": [
    "import numpy as np\n",
    "\n",
    "# Define a Real 3x2 matrix\n",
    "A = np.array([[1, 2], \n",
    "              [3, 4], \n",
    "              [5, 6]])\n",
    "\n",
    "#Complex Portion\n",
    "B = 1j * np.array([[7,8],\n",
    "                    [9,10],\n",
    "                    [11,12]])\n",
    "                    \n",
    "C = A + B\n",
    "\n",
    "# Compute the transpose\n",
    "A_T = np.transpose(A) #alternatively A_T = A.T\n",
    "\n",
    "#Hermitian \n",
    "C_H = np.conj(np.transpose(C))\n",
    "print(A_T)\n",
    "print(C_H)"
   ]
  },
  {
   "cell_type": "markdown",
   "id": "596b6303",
   "metadata": {},
   "source": [
    "## Inverse\n",
    "Compute the inverse of a matrix, $\\textbf{A}^{-1}$."
   ]
  },
  {
   "cell_type": "code",
   "execution_count": null,
   "id": "5d233313",
   "metadata": {},
   "outputs": [],
   "source": [
    "import numpy as np\n",
    "\n",
    "# Define a 3x3 matrix\n",
    "A = np.array([[1, 2, 1], \n",
    "              [3, 2, 1], \n",
    "              [1, 1, 2]])\n",
    "\n",
    "# Compute the inverse\n",
    "A_inv = np.linalg.inv(A)\n",
    "\n",
    "print(A_inv)"
   ]
  },
  {
   "cell_type": "markdown",
   "id": "37c95265",
   "metadata": {},
   "source": [
    "## Determinant\n",
    "Compute the determinant of a matrix, $\\textnormal{det}(\\textbf{A})$."
   ]
  },
  {
   "cell_type": "code",
   "execution_count": null,
   "id": "ebefb3be",
   "metadata": {},
   "outputs": [],
   "source": [
    "import numpy as np\n",
    "\n",
    "# Define a 3x3 matrix\n",
    "A = np.array([[1, 2, 3], \n",
    "              [4, 5, 6], \n",
    "              [7, 8, 9]])\n",
    "\n",
    "# Compute the determinant\n",
    "det_A = np.linalg.det(A)\n",
    "\n",
    "print(det_A)"
   ]
  },
  {
   "cell_type": "markdown",
   "id": "da259a4e",
   "metadata": {},
   "source": [
    "## Solve the System of Linear Equations \n",
    "$3x + y = 9$ and $x + 2y = 8$."
   ]
  },
  {
   "cell_type": "code",
   "execution_count": null,
   "id": "2108f6ee",
   "metadata": {},
   "outputs": [],
   "source": [
    "import numpy as np\n",
    "\n",
    "# Define the system's matrix\n",
    "A = np.array([[3, 1],\n",
    "              [1, 2]])\n",
    "\n",
    "# Define the constant vector\n",
    "b = np.array([9, 8])\n",
    "\n",
    "# Solve for [x, y]\n",
    "x = np.linalg.solve(A, b)\n",
    "\n",
    "print(x)"
   ]
  },
  {
   "cell_type": "markdown",
   "id": "ccc8f712",
   "metadata": {},
   "source": [
    "# Eigenvalue Decomposition\n",
    "\n",
    "Find the eigenvalues and eigenvectors of a matrix, $A = \\textbf{V}\\textbf{D}\\textbf{V}^T$."
   ]
  },
  {
   "cell_type": "code",
   "execution_count": null,
   "id": "09aaf5bb",
   "metadata": {},
   "outputs": [],
   "source": [
    "import numpy as np\n",
    "\n",
    "# Define a 2x2 matrix\n",
    "A = np.array([[4, 1], \n",
    "              [2, 3]])\n",
    "\n",
    "# Compute the eigenvalues and eigenvectors\n",
    "D, V = np.linalg.eig(A)\n",
    "\n",
    "print(\"Eigenvalues:\", D)\n",
    "print(\"Eigenvectors:\", V)"
   ]
  },
  {
   "cell_type": "markdown",
   "id": "11ed4d42",
   "metadata": {},
   "source": [
    "Numpy includes just about any linear algebraic operation you would require, definitely check out the documentation [4].  Additionally, more detail on matrix algebra and computations involving them can be found in [1,2].  The original Numpy paper is [3].\n",
    "\n",
    "Further reading:\n",
    "\n",
    "[1] Golub, Gene H., and Charles F. Van Loan. Matrix computations. JHU press, 2013.\n",
    "\n",
    "[2] Strang, Gilbert. Linear algebra and its applications. 2012.\n",
    "\n",
    "[3] Harris, C.R., Millman, K.J., van der Walt, S.J. et al. Array programming with NumPy. Nature 585, 357–362 (2020). DOI: 10.1038/s41586-020-2649-2. (Publisher link).\n",
    "\n",
    "[4] https://numpy.org/doc/stable/user/index.html#user"
   ]
  }
 ],
 "metadata": {
  "kernelspec": {
   "display_name": "Python 3 (ipykernel)",
   "language": "python",
   "name": "python3"
  },
  "language_info": {
   "codemirror_mode": {
    "name": "ipython",
    "version": 3
   },
   "file_extension": ".py",
   "mimetype": "text/x-python",
   "name": "python",
   "nbconvert_exporter": "python",
   "pygments_lexer": "ipython3",
   "version": "3.9.7"
  }
 },
 "nbformat": 4,
 "nbformat_minor": 5
}
