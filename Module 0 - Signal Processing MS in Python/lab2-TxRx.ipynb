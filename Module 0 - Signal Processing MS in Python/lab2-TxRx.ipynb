{
 "cells": [
  {
   "cell_type": "markdown",
   "id": "0e998558",
   "metadata": {},
   "source": [
    "# Transmitter and Receivers\n",
    "\n",
    "A transmitter converts bits into symbols which modulate electromagnetic propagation.  A receiver takes the modulated electromagnetic radiation syncs with symbols, demodulates, and produces bits.  The bits to bits pipeline is typically called the Physical layer, and will be the focus here.\n",
    "\n",
    "## In Phase & Quadrature (IQ)\n",
    "\n",
    "In-phase Quadrature (IQ) signals are used extensively in signal processing and telecommunications. IQ representation of a signal is essential for the modulation and demodulation processes in communication systems.\n",
    "\n",
    "To understand IQ signals, let's start with an introduction to basic concepts:\n",
    "\n",
    "- **Baseband signal**: A signal with frequency components that are close to zero (around DC). It's the original frequency band of a signal before it's modulated for transmission. \n",
    "\n",
    "- **Passband signal**: A signal that has been modulated to a higher frequency band for transmission. It's called a passband signal because it's within the frequency band, or \"passband,\" of the transmission channel.\n",
    "\n",
    "- **In-phase component (I component)**: This is the real part of a signal. \n",
    "\n",
    "- **Quadrature component (Q component)**: This is the imaginary part of a signal.\n",
    "\n",
    "### Baseband IQ Representation\n",
    "\n",
    "In the baseband IQ representation, a signal is represented by its I and Q components. The I component is the projection of the signal onto the real (or X) axis, and the Q component is the projection onto the imaginary (or Y) axis. You can think of an IQ signal as a 2D vector in this I-Q plane, with the I component representing the magnitude of the signal on the x-axis and the Q component representing the magnitude of the signal on the y-axis.\n",
    "\n",
    "In Python, you can create an IQ signal like this:"
   ]
  },
  {
   "cell_type": "code",
   "execution_count": null,
   "id": "d87841c9",
   "metadata": {},
   "outputs": [],
   "source": [
    "import numpy as np\n",
    "import matplotlib.pyplot as plt\n",
    "\n",
    "# Number of samples\n",
    "N = 1000\n",
    "\n",
    "# Time array\n",
    "t = np.linspace(0, 2, N)\n",
    "\n",
    "# IQ components\n",
    "I = np.cos(2 * np.pi * t)\n",
    "Q = np.sin(2 * np.pi * t)\n",
    "\n",
    "# IQ signal\n",
    "s = I + 1j*Q\n",
    "\n",
    "# Plotting I, Q and IQ signal\n",
    "plt.figure(0)\n",
    "\n",
    "# Plots\n",
    "plt.plot(t, I)\n",
    "plt.plot(t,Q)\n",
    "plt.legend(['In-Phase Component (I)','Quadrature Component (Q)'])\n",
    "plt.xlabel('Time')\n",
    "plt.ylabel('Amplitude')\n",
    "plt.show()"
   ]
  },
  {
   "cell_type": "markdown",
   "id": "6e313342",
   "metadata": {},
   "source": [
    "**Important Note:**  The baseband IQ represenation is a complex value, and in practice requires two data streams (for digital) or physical ports resources (for analog).  \n",
    "\n",
    "\n",
    "\n",
    "We first expand to look at other types of signals used in radar and/or comms\n",
    "Sure, let's dive into each of these topics.\n",
    "\n",
    "1. **Linear Frequency Modulation (LFM) / Frequency Modulation (FM)**:\n",
    "   - LFM, commonly known as a chirp in radar systems, is a signal in which the frequency changes linearly with time.\n",
    "   - In an LFM signal, the instantaneous frequency increases or decreases at a constant rate over the duration of the pulse.\n",
    "   - It's extensively used in radar and sonar systems, especially in pulse compression techniques, where the goal is to maintain a long pulse duration for energy purposes while achieving the range resolution of a shorter pulse through signal processing.\n",
    "   - The term \"chirp\" comes from the similarity to the sound some birds make, which can vary in frequency."
   ]
  },
  {
   "cell_type": "code",
   "execution_count": null,
   "id": "8ceb687e",
   "metadata": {},
   "outputs": [],
   "source": [
    "import numpy as np\n",
    "import matplotlib.pyplot as plt\n",
    "plt.close('all')\n",
    "t = np.linspace(0,1,1000) #Time Seconds\n",
    "fmin = -5 #Start Frequency Hz\n",
    "fmax = 5 #Stop Frequency Hz\n",
    "modulation_time = 1 #Seconds\n",
    "f = np.linspace(fmin,fmax,len(t))\n",
    "\n",
    "# Analog\n",
    "lfm_signal = np.exp(1j * np.pi * (fmax-fmin)/modulation_time * t**2)\n",
    "\n",
    "fig,ax = plt.subplots(1,2)\n",
    "ax[0].plot(t,np.real(lfm_signal))\n",
    "ax[0].plot(t,np.imag(lfm_signal))\n",
    "ax[0].set_xlabel('Time (seconds)')\n",
    "\n",
    "\n",
    "#Digital (way oversampled for visual, Nyquist would be >20 Hz)\n",
    "Fs = 1000 #Sampling Rate Hz\n",
    "num_samples = 40\n",
    "f = np.linspace(fmin,fmax,num_samples)\n",
    "lfm_signal_dig = np.exp(1j * 2*np.pi/Fs * np.cumsum(f *np.arange(num_samples)))\n",
    "ax[1].plot(np.real(lfm_signal_dig),'b')\n",
    "ax[1].plot(np.imag(lfm_signal_dig),'r')\n",
    "ax[1].plot(np.real(lfm_signal_dig),'b.')\n",
    "ax[1].plot(np.imag(lfm_signal_dig),'r.') "
   ]
  },
  {
   "cell_type": "markdown",
   "id": "181e0b69",
   "metadata": {},
   "source": [
    "![Alt text](../figs/lfmdemo.png?raw=true)\n",
    "\n",
    "2. **Nonlinear Frequency Modulation (NLFM)**:\n",
    "   - Unlike LFM, where the frequency changes at a constant rate, in NLFM, the rate of change of frequency is non-constant.\n",
    "   - The goal of NLFM is often to achieve a constant time-bandwidth product but with a sidelobe level that is lower than what's achieved with LFM.\n",
    "   - In some applications, using NLFM can reduce the peak sidelobes in the autocorrelation function, which can reduce the probability of range sidelobe false alarms in radar systems.\n",
    "   - Designing and implementing NLFM waveforms can be more complex than LFM waveforms.\n",
    "\n",
    "BPSK (Binary Phase Shift Keying) in the context of sensing or radar, especially in wireless sensor networks or remote sensing, has some unique applications and advantages. Sensing often requires sending out a known signal and examining how the environment modifies it, or it involves encoding the sensed data for transmission back to a base station.\n",
    "\n",
    "3. **Binary Phase Shift Keying (BPSK)**:\n",
    "   - BPSK is a modulation scheme where data bits modulate the phase of a reference signal (carrier wave).\n",
    "   - Specifically, there are two possible phase states: 0 degrees for binary \"0\" and 180 degrees for binary \"1\" (or vice versa). The magnitude or frequency of the carrier remains unchanged.\n",
    "   - BPSK is a simple and robust modulation scheme, offering good resilience against noise and interference. However, it doesn't use bandwidth as efficiently as higher order modulation schemes. This means it's slower in terms of data rate for the same bandwidth in communications.\n",
    "   - Radar systems send out pulses and listen for echoes to detect and locate objects. BPSK can modulate these pulses with a binary code, enhancing detection capabilities by correlating the received signal with the known transmitted sequence.  Longer sequences lead to higher gain, see [1] for more detail.\n",
    "   - BPSK-modulated radar pulses can achieve better range resolution using pulse compression techniques.\n",
    "   - It's commonly used in deep space communication, digital modems, and other applications where data integrity is more crucial than bandwidth efficiency."
   ]
  },
  {
   "cell_type": "code",
   "execution_count": null,
   "id": "087d8fa8",
   "metadata": {},
   "outputs": [],
   "source": [
    "import numpy as np\n",
    "import matplotlib.pyplot as plt\n",
    "plt.close('all')\n",
    "\n",
    "t = np.linspace(0,1.3,1300)\n",
    "Fs = 1000 #Sample Rate Hz\n",
    "chip_rate = .1 #Seconds\n",
    "samples_per_chip = int(Fs*chip_rate)\n",
    "\n",
    "sequence = np.array([1,1,1,1,1,-1,-1,1,1,-1,1,-1,1]) #13 Bit Barker Code\n",
    "\n",
    "# Analog/Digital\n",
    "bpsk_signal = np.repeat(sequence,samples_per_chip)\n",
    "\n",
    "fig,ax = plt.subplots()\n",
    "ax[0].plot(t,np.real(bpsk_signal))\n",
    "ax[0].plot(t,np.imag(bpsk_signal))\n",
    "ax[0].set_xlabel('Time (seconds)')\n"
   ]
  },
  {
   "cell_type": "markdown",
   "id": "3441eb3e",
   "metadata": {},
   "source": [
    "![Alt text](../figs/bpskdemo.png?raw=true)\n",
    "\n",
    "### Passband IQ Representation\n",
    "\n",
    "In the previous lab, you worked with a signal that was all-real, hence the baseband representation is also real.  **The main takeaway from this subsection is that ANY signal may be represented as real OR complex**.\n",
    "\n",
    "In passband representation, the baseband IQ signal is modulated to a higher frequency for transmission. Why does it need to be at a certain frequency?\n",
    "Let's approach this using an analogy:\n",
    "\n",
    "Imagine you have a variety of different-sized musical instruments: a large drum, a middle-sized guitar, and a small flute. Each of these instruments is designed to resonate or produce sound at particular frequencies. The drum produces low-pitched sounds (low frequencies), the guitar produces mid-pitched sounds (middle frequencies), and the flute produces high-pitched sounds (high frequencies). If you try to play a high-pitched song on the drum, it wouldn't sound right. Similarly, trying to get deep bass tones out of a flute would be futile. The physical design and size of each instrument make it naturally suited for specific tones or frequencies. Antennas are somewhat similar to musical instruments in this context. An antenna's size and shape determine which frequencies it can efficiently \"play\" or resonate with. When radio waves of a specific frequency hit an antenna, if the antenna is of the right size and design for that frequency, it resonates efficiently, turning those radio waves into electrical signals (or vice versa: turning electrical signals into radio waves). However, if you send radio waves of an unsuitable frequency to an antenna (like trying to get bass out of a flute), the antenna won't resonate well. It might still pick up the signal, but not efficiently, leading to weak reception or transmission.  So, just as you'd pick a specific musical instrument for a particular pitch or frequency range, engineers choose or design antennas for specific frequency ranges based on their applications. It ensures efficient transmission and reception of signals in communication systems.  \n",
    "\n",
    "\n",
    "Reaching a higher frequency is typically achieved by mixing the baseband IQ signal with a **carrier** signal. The I component is mixed with a cosine wave, and the Q component is mixed with a sine wave.\n",
    "\n",
    "The passband signal $s(t)$ can be expressed as:\n",
    "\n",
    "$$ s(t) = I(t)\\cos(2\\pi f_c t) - Q(t)\\sin(2\\pi f_c t) $$\n",
    "\n",
    "where $f_c$ is the carrier frequency.\n",
    "\n",
    "In Python, you can modulate a baseband IQ signal to a passband signal as shown below, note that I and Q are just placeholders and need to be defined for the code to work:"
   ]
  },
  {
   "cell_type": "code",
   "execution_count": null,
   "id": "644efce0",
   "metadata": {},
   "outputs": [],
   "source": [
    "\n",
    "\n",
    "# Carrier frequency\n",
    "fc = 10e6\n",
    "\n",
    "# Passband signal\n",
    "s_passband = I * np.cos(2 * np.pi * fc * t) - Q * np.sin(2 * np.pi * fc * t)\n",
    "\n",
    "# Plotting passband signal\n",
    "plt.figure()\n",
    "plt.plot(t, s_passband)\n",
    "plt.title('Passband Signal')\n",
    "plt.xlabel('Time')\n",
    "plt.ylabel('Amplitude')\n",
    "plt.show()"
   ]
  },
  {
   "cell_type": "markdown",
   "id": "62dc4429",
   "metadata": {},
   "source": [
    "In this tutorial, we saw how to represent a signal in baseband IQ form and passband form. Note that the passband representation is used for the actual transmission of the signal, and at the receiver side, the signal would be demodulated back to baseband for processing.  Balancing this link budget is done using the Friis transmission equation, but when I called it that on my first day of work I got a perplexed look from a senior engineer who corrected me that it was the...\n",
    "\n",
    "## Radar Range Equation:\n",
    "\n",
    "**Radar** stands for **RAdio Detection And Ranging**. It's essentially a system that uses electromagnetic waves to detect objects, measure their distance, speed, and other characteristics.\n",
    "\n",
    "Imagine you're in a pitch-black room, and you want to detect if someone's there. One way is to shout and listen for an echo. If someone's in the room, the sound bounces off them and returns to you as an echo. Based on the time it takes for the echo to return, you can estimate how far away they are.\n",
    "\n",
    "Radar does something similar but uses radio waves instead of sound waves.\n",
    "\n",
    "The radar range equation relates the range (distance) of a target to several factors:\n",
    "\n",
    "1. **Transmitted Power ($P_t$)**: The amount of energy the radar sends out.\n",
    "2. **Transmitter Antenna Gain ($G_t$)**: A measure of how \"focused\" the transmitted/received energy is in a particular direction.\n",
    "3. **Receiver Antenna Gain ($G_r$)**: A measure of how \"focused\" the transmitted/received energy is in a particular direction.\n",
    "4. **Radar Cross Section ($\\sigma$)**: A measure of how much radio energy an object reflects back towards the radar. Large metal objects have a high σ; stealth aircraft are designed to have a low σ.\n",
    "5. **Frequency ($f$)** or Wavelength (λ): The frequency/wavelength of the radio wave used.\n",
    "6. **Range ($R$)**: The distance between the radar and the target.\n",
    "\n",
    "The basic radar equation looks like this:\n",
    "\n",
    "$$P_r = \\frac{P_t  G_t G_r  \\lambda^2  \\sigma}{(4\\pi)^3  R^4 }$$\n",
    "\n",
    "Where:\n",
    "- $P_r$ is the received power.\n",
    "- $\\lambda$ is the wavelength of the transmitted signal.\n",
    "- Note that often the case with radars is $G_r = G_t = G$\n",
    "\n",
    "**Layman Explanation**\n",
    "\n",
    "Think of **P_t** as the loudness of your shout, and $P_r$ as how loud the echo is when it returns. \n",
    "\n",
    "- If you shout louder (higher $P_t$), you'll hear a louder echo (higher $P_r$).\n",
    "- If the person (or object) you're trying to detect is closer (smaller $R$), the echo will be louder.\n",
    "- If the person is wearing reflective clothing (think of this as a higher $\\sigma$), they'll reflect more sound and produce a louder echo.\n",
    "\n",
    "**Antenna Gain (G)** is like cupping your hands around your mouth when shouting (and ears when listening). It focuses the sound in a particular direction, making it louder in that direction and quieter in others.\n",
    "\n",
    "Finally, the receiver's sensitivity is akin to your hearing ability. If you have sharp hearing, you can detect even faint echoes.\n",
    "\n",
    "\n",
    "The radar range equation is fundamental in radar technology. It provides a relationship between how far away an object is and how easy it is to detect, given various parameters about the radar system and the target. This knowledge is crucial in both radar design.  The follow presentation by MIT Lincoln Labs provides an excellent introduction and overview of each piece:  https://www.ll.mit.edu/sites/default/files/outreach/doc/2018-07/lecture%202.pdf and [2] also has a good introduction\n",
    "\n",
    "## Power\n",
    "\n",
    "**Continuous Domain (Analog Signals):**\n",
    "\n",
    "For a continuous-time signal $x(t)$, the **power** is defined as the average power over an interval. \n",
    "\n",
    "For non-periodic signals, the average power $P$ over all time is given by:\n",
    "$ P = \\lim_{T \\to \\infty} \\frac{1}{2T} \\int_{-T}^{T} |x(t)|^2 \\, dt$\n",
    "\n",
    "For periodic signals with period $T_0$, the average power $P$ is:\n",
    "$P = \\frac{1}{T_0} \\int_{0}^{T_0} |x(t)|^2 \\, dt$\n",
    "\n",
    "Where:\n",
    "- $x(t)$ is the signal.\n",
    "- $T_0$ is the period of the signal.\n",
    "\n",
    "**Discrete Domain (Digital Signals):**\n",
    "\n",
    "For a discrete-time signal $x[n]$, the power is similarly defined. \n",
    "\n",
    "For non-periodic sequences, the average power $P$ over all time is:\n",
    "$P = \\lim_{N \\to \\infty} \\frac{1}{2N + 1} \\sum_{n=-N}^{N} |x[n]|^2$\n",
    "\n",
    "For periodic sequences with period $N_0$, the average power $P$ is:\n",
    "$P = \\frac{1}{N_0} \\sum_{n=0}^{N_0-1} |x[n]|^2$\n",
    "\n",
    "Where:\n",
    "- $x[n]$ is the signal.\n",
    "- $N_0$ is the period of the sequence.\n",
    "\n",
    "In plain English, sum of squared absolute value of elements averaged over the length of the sequence.  A scaling factor $P$ may be applied to a vector/array in order to obtain an \"amplification\" or \"attenuation\"."
   ]
  },
  {
   "cell_type": "code",
   "execution_count": null,
   "id": "7dae78eb",
   "metadata": {},
   "outputs": [],
   "source": [
    "\n",
    "import numpy as np\n",
    "import matplotlib.pyplot as plt\n",
    "\n",
    "# Time variable\n",
    "t = np.linspace(0, 1, 500, endpoint=False)\n",
    "\n",
    "#Signal Power\n",
    "P = 2\n",
    "\n",
    "# A 5 Hz waveform\n",
    "a = np.sqrt(P) * np.cos(2 * np.pi * 5 * t)\n",
    "\n",
    "power_a = np.sum(np.abs(a)^2)/len(a)\n"
   ]
  },
  {
   "cell_type": "markdown",
   "id": "38342139",
   "metadata": {},
   "source": [
    "**Notes**:\n",
    "\n",
    "1. The power of a signal represents the energy per unit of time. \n",
    "\n",
    "2. If a continuous or discrete signal's energy is finite, and its duration is infinite, then we speak of the signal's power rather than its energy.\n",
    "\n",
    "3. If the power is finite for a signal that extends from $-\\infty$ to $\\infty$, then the signal is referred to as a power signal. If the energy is finite but the power is infinite, the signal is called an energy signal.\n",
    "\n",
    "\n",
    "## Noise Models\n",
    "\n",
    "The performance of a communication receiver is significantly impacted by noise. Noise, in a receiver, generally refers to random and unpredictable electrical signals that can degrade the quality of the received signals. This noise can originate from various sources both external and intrinsic to the receiver components.\n",
    "\n",
    "Here are the most common types of noise in a receiver:\n",
    "\n",
    "1. **Thermal Noise (or Johnson-Nyquist Noise):** This noise originates due to the random motion of electrons in a conductor. Its power is proportional to temperature and bandwidth. It's present in all electronic devices and components. Given by the equation:\n",
    "   $N = k \\times T \\times B$\n",
    "   where $k$ is Boltzmann's constant, $T$ is the absolute temperature, and $B$  is the bandwidth.\n",
    "\n",
    "2. **Shot Noise:** This noise results from the discrete nature of electron charge. It's more prominent in semiconductor devices like diodes and transistors. The power of shot noise is proportional to the DC current and the bandwidth.\n",
    "\n",
    "3. **Quantization Noise:** Relevant in digital receivers, this type of noise arises when analog signals are converted to digital. It depends on the resolution of the Analog-to-Digital Converter (ADC).\n",
    "\n",
    "4. **Phase Noise:** Important in frequency synthesizers and oscillators, phase noise relates to the purity of the generated signals in terms of phase. It can affect the performance of systems, especially in higher order modulation schemes.\n",
    "\n",
    "5. **Intermodulation Noise:** This type of noise arises when two or more different frequencies mix and create undesired additional frequencies, which can fall into the desired band and become a form of interference.\n",
    "\n",
    "6. **Flicker (1/f) Noise:** This is low-frequency noise and is more prominent in some semiconductor devices at low frequencies.\n",
    "\n",
    "7. **Environmental Noise:** This includes interference from nearby electronic devices, cosmic sources, and even solar radiation.\n",
    "\n",
    "When designing or analyzing a receiver, engineers often consider the **Noise Figure (NF)** or **Noise Factor (F)**, which is a measure of how much the Signal-to-Noise Ratio (SNR) deteriorates as a signal passes through a component or system. A perfect component (with no noise) would have an NF of 0 dB, while real-world components always have an NF greater than 0 dB, some typical values range between 3-5 dB.\n",
    "\n",
    "Often, in receiver design and analysis, noise is modeled as Additive White Gaussian Noise (AWGN), which assumes that noise is added to the signal and has a Gaussian distribution. This is a simplification, but it provides a reasonable model for many communication system analyses.  The python code below shows how to develop such a model based on thermal noise that is 100% in band."
   ]
  },
  {
   "cell_type": "code",
   "execution_count": null,
   "id": "ff99bf1d",
   "metadata": {},
   "outputs": [],
   "source": [
    "import numpy as np\n",
    "\n",
    "k = 1.38e-23 #Boltzmann's Constant\n",
    "T = 290 #Kelvin\n",
    "NF = 10**(5/10) #Noise Factor in Linear units\n",
    "B = 1e6 #Bandwidth\n",
    "\n",
    "sigma = np.sqrt(k * T * NF * B)\n"
   ]
  },
  {
   "cell_type": "markdown",
   "id": "192ec2d2",
   "metadata": {},
   "source": [
    "$\\sigma^2$ is the noise **variance**, and when compared to the signal power, $P$ provides the **Signal-to-Noise Ratio (SNR)**, often represented by $\\chi$.  \n",
    "\n",
    "$$ \\chi = \\frac{P}{\\sigma^2} $$\n",
    "\n",
    "Interference may be causing additional noise $\\sigma_i^2$ from an $i$th source, the **Signal-to-Interference-plus-Noise Ratio (SINR)** is \n",
    "\n",
    "$$ \\frac{P}{\\sigma^2 + \\sigma_1^2 + \\dots + \\sigma_i + \\dots} $$\n",
    "\n",
    "Note that interference models are generally much more complex.\n",
    "\n",
    "Building from our example from lab1, if all noise is in-band, i.e. AWGN:"
   ]
  },
  {
   "cell_type": "code",
   "execution_count": null,
   "id": "8e037871",
   "metadata": {},
   "outputs": [],
   "source": [
    "\n",
    "import numpy as np\n",
    "import matplotlib.pyplot as plt\n",
    "\n",
    "# Time variable\n",
    "t = np.linspace(0, 1, 500, endpoint=False)\n",
    "\n",
    "#Signal Power\n",
    "P = 1\n",
    "\n",
    "# A 5 Hz waveform\n",
    "a = np.sqrt(P) * np.cos(2 * np.pi * 5 * t)\n",
    "\n",
    "#Noise variances\n",
    "sigmas = [.1, 1, 10]\n",
    "\n",
    "fig,ax = plt.subplots(3,1)\n",
    "for ii,sigma in enumerate(sigmas):\n",
    "    n = sigma * np.random.randn(len(a))\n",
    "    a = a + n\n",
    "    ax[ii].plot(t, a, label = f'SNR: {int(10*np.log10(P/sigma))}')\n",
    "    ax[ii].legend(loc = 'lower right', fontsize = 8)\n",
    "\n",
    "plt.show()"
   ]
  },
  {
   "cell_type": "markdown",
   "id": "bd0c3b94",
   "metadata": {},
   "source": [
    "![Alt text](../figs/snrdemo.png?raw=true)\n",
    "\n",
    "\n",
    "\n",
    "References and Further Reading\n",
    "[1] Scheer, Jim, and William A. Holm. \"Principles of modern radar.\" (2010): Chapter 20 Section 12.\n",
    "[2] Scheer, Jim, and William A. Holm. \"Principles of modern radar.\" (2010): Chapter 2.\n",
    "[3]  Richards, Mark A. Fundamentals of radar signal processing McGraw-Hill Education, 2014: Chapter 6\n",
    "\n",
    "\n",
    "The problems for this lab pertain to creating your own radar simulation, much more information can be found on the broad topic of radar in the MIT Lincoln Labs Introduction to Radar Course, in particular, the first lecture https://www.ll.mit.edu/sites/default/files/outreach/doc/2018-07/lecture%201.pdf.\n",
    "\n",
    "In particular, you will build this...\n",
    "\n",
    "![Alt text](../figs/lab2_diagram.png?raw=true)\n",
    "\n",
    "# Problem 1\n",
    "Cool, so let's build a radar receiver, but first, a little bit about Python objects/classes, we instantiate a class as"
   ]
  },
  {
   "cell_type": "code",
   "execution_count": null,
   "id": "2e30e0ed",
   "metadata": {},
   "outputs": [],
   "source": [
    "class Person:\n",
    "    def __init__(self, age, name, eye_color):\n",
    "        self.age = age\n",
    "        self.name = name\n",
    "        self.eye_color = eye_color\n",
    "        \n",
    "    def calculate_age_plus_five_years(self):\n",
    "        return self.age + 5"
   ]
  },
  {
   "cell_type": "markdown",
   "id": "c2387eef",
   "metadata": {},
   "source": [
    "The object class ```Person``` has accepts arguments ```name```, ```eye_color```, and ```age``` and assigns them to attributes that don't necessarily need to be name the same thing.  We instantiate an instance of ```Person``` as"
   ]
  },
  {
   "cell_type": "code",
   "execution_count": null,
   "id": "a155ed37",
   "metadata": {},
   "outputs": [],
   "source": [
    "bob = Person(45,'Bob', 'Brown')"
   ]
  },
  {
   "cell_type": "markdown",
   "id": "291f44dd",
   "metadata": {},
   "source": [
    "We can do some hardcore math with the method ```calculate_age_plus_five_years``` and calclate Bob's age plus 5 years, which is 50."
   ]
  },
  {
   "cell_type": "code",
   "execution_count": null,
   "id": "0126d0bc",
   "metadata": {},
   "outputs": [],
   "source": [
    "bob.calculate_age_plus_five_years()"
   ]
  },
  {
   "cell_type": "markdown",
   "id": "e438e74d",
   "metadata": {},
   "source": [
    "It's often useful to define model components as objects, for example, a Butterworth filter might use the following object wrapper"
   ]
  },
  {
   "cell_type": "code",
   "execution_count": null,
   "id": "ca9df27e",
   "metadata": {},
   "outputs": [],
   "source": [
    "from scipy.signal import butter\n",
    "\n",
    "class ButterFilter:\n",
    "\tdef __init__(self,N,Wn,fs,btype):\n",
    "\t\tself.N = N      #Filter order\n",
    "\t\tself.Wn = Wn    #Window limits, if low pass or high pass, it's the cutoff frequency, if bandpass, it's a tuple of start and stop\n",
    "\t\tself.Fs = fs    #Sampling Frequency\n",
    "\t\tself.btype = btype #Filter type \"bandpass\", \"low\", \"high\"\n",
    "\t\t\n",
    "\t\tself.b,self.a = butter(N = N, Wn = Wn, fs = fs, btype = btype)\n",
    "\t\n",
    "\tdef filter_signal(self,x): return lfilter(self.b,self.a,x)"
   ]
  },
  {
   "cell_type": "markdown",
   "id": "907aa0cd",
   "metadata": {},
   "source": [
    "We instantiate ```ButterFilter``` as"
   ]
  },
  {
   "cell_type": "code",
   "execution_count": null,
   "id": "0e1f186d",
   "metadata": {},
   "outputs": [],
   "source": [
    "mybutterfilter = ButterFilter(...)"
   ]
  },
  {
   "cell_type": "markdown",
   "id": "f4e8dd6f",
   "metadata": {},
   "source": [
    "and filter signals by invoking the method ```mybutterfilter.filter_signal(x)```.  \n",
    "\n",
    "**DO THIS** Your first task is to create a Python ```class``` called ```Receiver``` with attributes corresponding to:\n",
    "\n",
    "* RF Sampling Frequency in Hz - 500 MHz\n",
    "* Intermediate Frequency (IF) Sampling Frequency in Hz - 100 MHz\n",
    "* Baseband (BB) Sampling Frequency in Hz - 25 MHz\n",
    "* RF Center Frequency in Hz - 115 MHz\n",
    "* RF Bandwidth in Hz - 10 MHz\n",
    "\n",
    "Your class should include a function called ```__init__``` that receives args \n",
    "\n",
    "* ```rf_sampling_frequency_hz```\n",
    "* ```if_sampling_frequency_hz```\n",
    "* ```bb_sampling_frequency_hz```\n",
    "* ```rf_center_frequency_hz```\n",
    "* ```rf_bandwidth_hz```\n",
    "\n",
    "and assigns them to object attributes, for example, ```self.fc_rf = rf_center_frequency_hz```.  Your ```__init__``` function should also initialize three filters \n",
    "\n",
    "* Butterworth front end wideband bandpass reject filter order 2 with limits 110 MHz and 120 MHz (covers the RF bandwidth)\n",
    "* Chebyshev (use ```scipy.signal.cheby1```) low pass order 5 with ripple factor 2 and cutoff 20 MHz\n",
    "* FIR (use ```scipy.signal.firwin```) with 31 taps and cutoff frequency of 1 MHz\n",
    "\n",
    "Your object, ```Receiver```, should finally include a method for processing an incoming signal using components you've defined, for example"
   ]
  },
  {
   "cell_type": "code",
   "execution_count": null,
   "id": "457fba3f",
   "metadata": {},
   "outputs": [],
   "source": [
    "def process_signal(self,wf_object,x):\n",
    "    ### FOR PLOT PROCESSING ONLY ##########################\n",
    "    fig,axes = plt.subplots(3,2)\n",
    "    freq = np.linspace(-self.Fs_rf/2,self.Fs_rf/2,len(x))\n",
    "    axes[0,0].plot(freq/1e6,affts(x))\n",
    "    axes[0,0].set_xlabel('MHz')\n",
    "    axes[0,1].plot(np.real(x))\n",
    "    axes[0,1].plot(np.imag(x))\n",
    "    #######################################################\n",
    "    \n",
    "    x = self.apply_bpfrontend(x) #Apply the Butterworth filter you constructed\n",
    "    #Downsample by a factor of 5\n",
    "    \n",
    "    ### FOR PLOT PROCESSING ONLY ##########################\n",
    "    freq = np.linspace(-self.Fs_if/2,self.Fs_if/2,len(x))\n",
    "    axes[1,0].plot(freq/1e6,affts(x),'b')\n",
    "    axes[1,0].set_xlabel('MHz')\n",
    "    #######################################################\n",
    "    \n",
    "    # Apply the Cheby1 IF filter you constructed\n",
    "    \n",
    "    ### FOR PLOT PROCESSING ONLY ##########################\n",
    "    axes[1,1].plot(np.real(x))\n",
    "    axes[1,1].plot(np.imag(x))\n",
    "    #######################################################\n",
    "    \n",
    "    #Downconvert to BB using a complex exponential.\n",
    "    \n",
    "    ### FOR PLOT PROCESSING ONLY ##########################\n",
    "    axes[1,0].plot(freq/1e6,affts(x),'r')\n",
    "    #######################################################\n",
    "    \n",
    "    #Apply the FIR BB filter\n",
    "    #Downsample by a factor of 4\n",
    "    \n",
    "    ### FOR PLOT PROCESSING ONLY ##########################\n",
    "    freq = np.linspace(-self.Fs_bb/2,self.Fs_bb/2,len(x))\n",
    "    axes[2,0].plot(freq/1e6,affts(x))\n",
    "    axes[2,0].set_xlabel('MHz')\n",
    "    axes[2,1].plot(np.real(x))\n",
    "    axes[2,1].plot(np.imag(x))\n",
    "    #######################################################\n",
    "    #...\n",
    "return x\n",
    "\n",
    "def ffts(x): return np.fft.fftshift(np.fft.fft(x))/len(x)\n",
    "def affts(x): return np.abs(ffts(x))"
   ]
  },
  {
   "cell_type": "markdown",
   "id": "77e26635",
   "metadata": {},
   "source": [
    "The downsample factor causes the original signal to alias the original RF center frequency to 15 MHz,  we use a 35 MHz cutoff in the Cheby1 filter to restrict the signal at IF.  The rest of the ```process_signal``` method should apply the Cheby1 IF filter, then multiply by a complex sinusoid at  the IF, which can be calculated by"
   ]
  },
  {
   "cell_type": "code",
   "execution_count": null,
   "id": "4f7eb614",
   "metadata": {},
   "outputs": [],
   "source": [
    "self.fc_if = np.mod(rf_sampling_frequency_hz,if_sampling_frequency_hz)"
   ]
  },
  {
   "cell_type": "markdown",
   "id": "993de205",
   "metadata": {},
   "source": [
    "MHz to downconvert to baseband.  Once at baseband, apply the FIR filter you defined and downsample by a factor of 4 to reach your BB sampling frequency.  This process models the RF front end of a receiver for conversion from analog to baseband.\n",
    "\n",
    "Write a test script to process the following LFM signal sampled at the RF receiver frequency, first instantiate an instance of your ```Receiver``` object, call it ```myreceiver``` or something that makes sense to you."
   ]
  },
  {
   "cell_type": "code",
   "execution_count": null,
   "id": "a6a0d1de",
   "metadata": {},
   "outputs": [],
   "source": [
    "pulse_width = 10e-6\n",
    "Fs_rf = 500e6\n",
    "fc_rf = 115e6\n",
    "lfm_min = -1e6\n",
    "lfm_max = 1e6\n",
    "signal_length_samples = int(pulse_width * Fs_rf) #5000\n",
    "x = np.exp(1j * 2 * np.pi/Fs_rf * (fc_rf *np.arange(signal_length_samples) + np.cumsum(np.linspace(lfm_min,lfm_max,signal_length_samples))))"
   ]
  },
  {
   "cell_type": "markdown",
   "id": "97892178",
   "metadata": {},
   "source": [
    "The end result should look like the following:\n",
    "\n",
    "![Alt text](../figs/rfchaintest.png?raw=true)\n",
    "\n",
    "# Problem 2\n",
    "\n",
    "In the first problem, you modeled the RF front end of a receiver.  Generally, the first two filter chains represent analog processes, which we try to capture functionality of in a computer simulation with discrete numbers.  A lot of times, the front end may be bypassed altogether in a model if it is not impacting to the overall setup trying to be modeled.  We now shift our focus to the signal processor, the meat of the backend that processes the raw sampled digital signal.  \n",
    "\n",
    "**DO THIS** Create a new Python class called ```SinglePulseWaveform``` with that has the following attributes:\n",
    "\n",
    "* Pulse Width in seconds - 10 us\n",
    "* Pulse Repetition Interval in seconds - 1000 us\n",
    "* Linear Frequency Modulation Excursion in Hz- 2 MHz\n",
    "* RF Sampling Frequency in Hz - 500 MHz\n",
    "* Intermediate Frequency (IF) Sampling Frequency in Hz - 100 MHz\n",
    "* Baseband (BB) Sampling Frequency in Hz - 25 MHz\n",
    "* RF Center Frequency in Hz - 115 MHz\n",
    "* RF Bandwidth in Hz - 10 MHz\n",
    "\n",
    "and accepts the following arguments:\n",
    "\n",
    "* pulse_width_s\n",
    "* pulse_repetition_interval_s\n",
    "* lfm_excursion_hz\n",
    "* rf_sampling_frequency_hz \n",
    "* if_sampling_frequency_hz \n",
    "* bb_sampling_frequency_hz \n",
    "* rf_center_frequency_hz \n",
    "\n",
    "Assign each argument to a class attribute, similar to Problem 1.  It is of critical importance that we understand the number of samples in our timing intervals, be that a pulse width, pulse repetition interval, or in more complex cases, the coherent processing interval.  It is helpful to define a series of class attributes that precalculate these, for example, within your ```SinglePulseWaveform``` class,"
   ]
  },
  {
   "cell_type": "code",
   "execution_count": null,
   "id": "ae640e25",
   "metadata": {},
   "outputs": [],
   "source": [
    "class SinglePulseWaveform:\n",
    "    def __init__(self,\n",
    "                 pulse_width_s,\n",
    "                 #...\n",
    "                 ):\n",
    "                 self.pw = pulse_width_s\n",
    "#...\n",
    "    self.samples_per_pw_rf = int(self.pw * rf_sampling_frequency_hz)\n",
    "    self.samples_per_pw_if = int(self.pw * if_sampling_frequency_hz)\n",
    "    self.samples_per_pw_bb = int(self.pw * bb_sampling_frequency_hz)"
   ]
  },
  {
   "cell_type": "markdown",
   "id": "3b424c82",
   "metadata": {},
   "source": [
    "The above snippet has precalculations for the number of samples in a pulse at the various sampling rates we use in our receiver.  Add these for the pulse width and pulse repetition interval.  Add a third set of attributes for the number of samples in the receiving window, more on this later, but for now use the snippet below.  Additionally, for single pulse modes, we are only interested in a critical processing interval (CPI) of one pulse."
   ]
  },
  {
   "cell_type": "code",
   "execution_count": null,
   "id": "f93ba57d",
   "metadata": {},
   "outputs": [],
   "source": [
    "    self.samples_per_range_window_rf = self.samples_per_pri_rf - self.samples_per_pw_rf\n",
    "    self.samples_per_range_window_if = self.samples_per_pri_if - self.samples_per_pw_if\n",
    "    self.samples_per_range_window_bb = self.samples_per_pri_bb - self.samples_per_pw_bb\n",
    "    \n",
    "    self.samples_per_cpi_rf = int(1 * self.samples_per_pri_rf)\n",
    "    self.samples_per_cpi_if = int(1 * self.samples_per_pri_if)\n",
    "    self.samples_per_cpi_bb = int(1 * self.samples_per_pri_bb)"
   ]
  },
  {
   "cell_type": "markdown",
   "id": "d3bf41dd",
   "metadata": {},
   "source": [
    "**DO THIS** Create an array representing the LFM pulse signal described by the class attributes in ```SinglePulseWaveform```, note the sampling frequency is at RF."
   ]
  },
  {
   "cell_type": "code",
   "execution_count": null,
   "id": "9bde3059",
   "metadata": {},
   "outputs": [],
   "source": [
    "self.wf_single_pw = np.exp(1j * 2 * np.pi/self.Fs_rf * (self.fc_rf *np.arange(self.samples_per_pw_rf) + np.cumsum(np.linspace(self.fmin_bb,self.fmax_bb,self.samples_per_pw_rf))))"
   ]
  },
  {
   "cell_type": "markdown",
   "id": "a0dbab1a",
   "metadata": {},
   "source": [
    "Concatenate ```self.wf_single_pw``` with zeros (use ```np.concantenate``` and ```np.zeros```) to form an array that represents one PRI.  The number of zeros should be specified by ```self.samples_per_range_window_rf```.  When specifying the array of zeros, it's often good practice to add ```0j``` to complexify it.  Sometimes Python will only preserve the real portion otherwise.  Name the final attribute of concatenated ```self.wf_single_pw``` and zeros as ```self.wf```\n",
    "\n",
    "Finally, add attributes for the matched filter taps at BB, I also like to add an attribute that's a custom BB FIR (similar to what you constructed in Problem 1) custom to the waveform I'm describing so that I don't mess things up later."
   ]
  },
  {
   "cell_type": "code",
   "execution_count": null,
   "id": "4f45fca0",
   "metadata": {},
   "outputs": [],
   "source": [
    "self.mf_wf_bb = np.exp(1j * 2 * np.pi/self.Fs_bb * (np.cumsum(np.linspace(-lfm_excursion_hz/2,lfm_excursion_hz/2,self.samples_per_pw_bb))))\n",
    "self.bb_filter = FIR(numtaps = 31, cutoff = lfm_excursion_hz/2, fs = self.Fs_bb)"
   ]
  },
  {
   "cell_type": "markdown",
   "id": "1f0242a1",
   "metadata": {},
   "source": [
    "Create an instance of ```SinglePulseWaveform``` called ```mywf``` with the argument values listed above as an attribute to your ```Receiver``` object in Problem 1.  Use the function ```process_signal``` on ```mywf.wf_single_pw``` that you constructed in Problem 1 for the RF frontend.  Apply your the matched filter by appending the following at the end of the  ```process_signal``` function"
   ]
  },
  {
   "cell_type": "code",
   "execution_count": null,
   "id": "40e55ae2",
   "metadata": {},
   "outputs": [],
   "source": [
    "x = np.convolve(x,np.conj(self.mywf.mf_wf_bb), mode = 'same')"
   ]
  },
  {
   "cell_type": "markdown",
   "id": "802b1af6",
   "metadata": {},
   "source": [
    "The output should look like \n",
    "\n",
    "![Alt text](../figs/mftest.png?raw=true)\n",
    "\n",
    "# Problem 3\n",
    "\n",
    "![Alt text](../figs/radar_return.png?raw=true)\n",
    "\n",
    "(graphic from https://www.researchgate.net/figure/Radar-signal-concept_fig1_276184180)\n",
    "\n",
    "All radar detection is based on delays relative to intervals in which measurements are processed.  In this problem, you'll be shown how to simulate a delay within that interval.  Let's say we have a target out at 50 km, with our chosen $T_{\\textnormal{PRI}} = 1000$ us we can detect a target, unambiguously, out to \n",
    "\n",
    "$$R_\\textnormal{ua} = cT_{\\textnormal{PRI}}/2 = 150 \\textnormal{km}$$\n",
    "\n",
    "where $c = 3\\times 10^8$ m/s is the speed of light in free space.  We can simulate the return signal within our receive window as"
   ]
  },
  {
   "cell_type": "code",
   "execution_count": null,
   "id": "c3a17e8b",
   "metadata": {},
   "outputs": [],
   "source": [
    "    #Calculate index of signal presence\n",
    "    d = 50000 #distance of target in meters\n",
    "    distance_samples_skin_return_m = np.arange(myreceiver.mywf.samples_per_cpi_rf) / myreceiver.Fs_rf * 3e8/2\n",
    "    print(f'Maximum Distance: {np.max(distance_samples_skin_return_m)}, Target Distance: {d}')\n",
    "    min_range_sample_to_d = np.argmin(np.abs(distance_samples_skin_return_m-d))\n",
    "\n",
    "    #Truncate return signals outside cpi, and concatenate zeros\n",
    "    x = dcp(myreceiver.mywf.wf)\n",
    "    fig,axes = plt.subplots()\n",
    "\n",
    "    x = x[:(myreceiver.mywf.samples_per_cpi_rf-min_range_sample_to_d)]\n",
    "    x = np.concatenate([np.zeros(myreceiver.mywf.samples_per_cpi_rf-len(x)) + 0.0j,x])"
   ]
  },
  {
   "cell_type": "markdown",
   "id": "48496a29",
   "metadata": {},
   "source": [
    "**DO THIS** Process ```x``` in the above snippet using your ```process_signal``` function constructed in Problem 1, then apply your matched filter from the ```SinglePulseWaveform``` instance you created, ```mywf```.  The output should look like the following, note the delay is roughly a third of the way through the overall receive window samples.  Matching this sample to a moment in time, then scaling by $c/2$ provides the distance estimation of the target.  But how do designate something as a detection, or not?  Surely noise can trigger detections if significant enough, let's find out in the next lab...\n",
    "\n",
    "![Alt text](../figs/distance_delay_test.png?raw=true)\n",
    "\n",
    "# Problem 4\n",
    "\n",
    "So far we have only dealt with the noiseless response of the transmitter and receiver, in fact we are using the default magnitude (power) of the signals in the model that Python prescribes.  Let's calibrate this to match a situation in real life.\n",
    "\n",
    "We can scale the transmit power of the waveform as follows, for a transmit power of $P_t$,"
   ]
  },
  {
   "cell_type": "code",
   "execution_count": null,
   "id": "0e1f27e4",
   "metadata": {},
   "outputs": [],
   "source": [
    "transmit_signal = np.sqrt(P_t) * wf_rf"
   ]
  },
  {
   "cell_type": "markdown",
   "id": "5d2e4629",
   "metadata": {},
   "source": [
    "**DO THIS** Create the following classes:\n",
    "\n",
    "Let's add a wrapper class, ```Transmitter``` as"
   ]
  },
  {
   "cell_type": "code",
   "execution_count": null,
   "id": "e6484e48",
   "metadata": {},
   "outputs": [],
   "source": [
    "class Transmitter:\n",
    "\tdef __init__(self,\n",
    "\t\n",
    "\t\t\t\t#Spatial Parameters\n",
    "\t\t\t\tx_loc_m = 0.0, \n",
    "\t\t\t\ty_loc_m = 0.0,\n",
    "\t\t\t\tz_loc_m = 3.0, \n",
    "\t\t\t\tx_vel_mps = 0.0,\n",
    "\t\t\t\ty_vel_mps = 0.0,\n",
    "\t\t\t\tz_vel_mps = 0.0,\n",
    "\t\t\t\tx_acc_mps2 = 0.0,\n",
    "\t\t\t\ty_acc_mps2 = 0.0,\n",
    "\t\t\t\tz_acc_mps2 = 0.0,\n",
    "\t\t\t\t\n",
    "\t\t\t\t#Transmitter and Sampling Parameters\n",
    "\t\t\t\trf_sampling_frequency_hz = 500e6,\n",
    "\t\t\t\tif_sampling_frequency_hz = 100e6,\n",
    "\t\t\t\tbb_sampling_frequency_hz = 25e6,\n",
    "\t\t\t\trf_center_frequency_hz = 115e6,\n",
    "\t\t\t\trf_bandwidth_hz = 10e6,\n",
    "\t\t\t\ttransmit_power_w = 100):\n",
    "\t\t\t\t\n",
    "\t\tself.state = np.array([x_loc_m,y_loc_m,z_loc_m,x_vel_mps,y_vel_mps,z_vel_mps]) \n",
    "\t\tself.Fs_rf = rf_sampling_frequency_hz\n",
    "\t\tself.Fs_if = if_sampling_frequency_hz\n",
    "\t\tself.Fs_bb = bb_sampling_frequency_hz\n",
    "\t\tself.fc_rf = rf_center_frequency_hz\n",
    "\t\tself.fc_if = np.mod(rf_center_frequency_hz,if_sampling_frequency_hz)\n",
    "\t\tself.rf_bw = rf_bandwidth_hz\n",
    "\t\tself.Ptx = transmit_power_w\n",
    "\n",
    "\tdef transmit_waveform(self,wf_object):\n",
    "\t\treturn np.sqrt(self.Ptx) * wf_object.wf()"
   ]
  },
  {
   "cell_type": "markdown",
   "id": "7c5c57ee",
   "metadata": {},
   "source": [
    "Go ahead and and add the spatial parameters, i.e., ```x_loc_m```, ```y_loc_m```, etc. to your ```Receiver``` class as well.  Pull out the instantiation of the ```SinglePulseWaveform``` object, don't delete it!  Modify your ```Receiver``` class to accept an argument"
   ]
  },
  {
   "cell_type": "code",
   "execution_count": null,
   "id": "c2330572",
   "metadata": {
    "attributes": {
     "classes": [
      "receiver_noise_figure_db```"
     ],
     "id": ""
    }
   },
   "outputs": [],
   "source": [
    "\n",
    "with a default value of $5$~dB.  Make it an attribute in linear units, and compute the noise standard deviation, $\\sigma_n$\n",
    "\n",
    "```python\n",
    "    self.NF_lin = 10**(receiver_noise_figure_db/10)\n",
    "\tself.sigma_n = np.sqrt(1.38e-23 * 290 * rf_bandwidth_hz * self.NF_lin)"
   ]
  },
  {
   "cell_type": "markdown",
   "id": "d5ecb20c",
   "metadata": {},
   "source": [
    "Now add a method"
   ]
  },
  {
   "cell_type": "code",
   "execution_count": null,
   "id": "5c09d751",
   "metadata": {},
   "outputs": [],
   "source": [
    "def add_receiver_noise(self,x): return x + self.sigma_n/np.sqrt(2) * (np.random.randn(len(x)) + 1j*np.random.randn(len(x)))"
   ]
  },
  {
   "cell_type": "markdown",
   "id": "af40412f",
   "metadata": {},
   "source": [
    "Finally, insert the ```add_receiver_noise``` method into your ```process_signal``` method you created earlier after the front end RF filter, but before the IF filter."
   ]
  },
  {
   "cell_type": "code",
   "execution_count": null,
   "id": "d5f58c61",
   "metadata": {},
   "outputs": [],
   "source": [
    "x = self.add_receiver_noise(x)"
   ]
  },
  {
   "cell_type": "markdown",
   "id": "72415b8c",
   "metadata": {},
   "source": [
    "*Caution* We need to be careful, if the entire RF bandwidth is not processed in the RF chain, we need to adjust the noise bandwidth settings separately.  The revised ```process_signal``` method should be modified to match"
   ]
  },
  {
   "cell_type": "code",
   "execution_count": null,
   "id": "eca8aa5e",
   "metadata": {},
   "outputs": [],
   "source": [
    "def process_signal(self,x,wf_object):\n",
    "\t\tfig,axes = plt.subplots()\n",
    "\t\tx = self.apply_rf2if_filter(x) #Can be bypassed if you don't have anything out of band.\n",
    "\t\tx = x[::self.rf2if_ds]\n",
    "\t\tx = self.add_receiver_noise(x)\n",
    "\t\tx = self.apply_adc_filter(x)\n",
    "\t\tx = x * np.exp(-1j*2*np.pi/self.Fs_if * self.fc_if *np.arange(len(x)))\n",
    "\t\tx = wf_object.apply_bb_filter(x)\n",
    "\t\tx = x[::self.if2bb_ds]\n",
    "\t\t\n",
    "\t\t#fig.savefig('../SignalProcessingTutorial/figs/rfchaintest.png')\n",
    "\t\tx = np.convolve(x,np.conj(wf_object.mf_wf_bb), mode = 'same')\n",
    "\t\taxes.plot(np.abs(x))\n",
    "\t\tfig.savefig('./sim_test.png')\n",
    "\t\treturn x"
   ]
  },
  {
   "cell_type": "markdown",
   "id": "c2fb07b1",
   "metadata": {},
   "source": [
    "**DO THIS** Take things a step further and create ```Receiver``` and ```Transmitter``` as instantiations in (they don't necessarily have to be child classes, but can be handy when they are often co-located) a higher level wrapper class, ```Radar```.  Put the ```SinglePulseWaveform``` instantiation in the ```__init__``` function"
   ]
  },
  {
   "cell_type": "code",
   "execution_count": null,
   "id": "3edcf64a",
   "metadata": {},
   "outputs": [],
   "source": [
    "class Radar:\n",
    "\t'''\n",
    "\tBasic single mode, single pulse radar\n",
    "\t'''\n",
    "\tdef __init__(self):\n",
    "\t\tself.transmitter = Transmitter()\n",
    "\t\tself.receiver = Receiver()\n",
    "\t\t\n",
    "\t\tself.mywf = SinglePulseWaveform(pulse_width_s = 10e-6,\n",
    "\t\t\t\t\t\t\t\t\t\tpulse_repetition_interval_s = 1000e-6,\n",
    "\t\t\t\t\t\t\t\t\t\tlfm_excursion_hz = 2e6,\n",
    "\t\t\t\t\t\t\t\t\t\trf_sampling_frequency_hz = self.receiver.Fs_rf,\n",
    "\t\t\t\t\t\t\t\t\t\tif_sampling_frequency_hz = self.receiver.Fs_if,\n",
    "\t\t\t\t\t\t\t\t\t\tbb_sampling_frequency_hz = self.receiver.Fs_bb,\n",
    "\t\t\t\t\t\t\t\t\t\trf_center_frequency_hz = self.receiver.fc_rf)\n",
    "                                        "
   ]
  },
  {
   "cell_type": "markdown",
   "id": "6e9ac637",
   "metadata": {},
   "source": [
    "**DO THIS** Add a class called ```Scatterer```:"
   ]
  },
  {
   "cell_type": "code",
   "execution_count": null,
   "id": "4583b7a8",
   "metadata": {},
   "outputs": [],
   "source": [
    "class Scatterer:\n",
    "\tdef __init__(self,\n",
    "\t\n",
    "\t\t\t\t#Spatial Parameters\n",
    "\t\t\t\tx_loc_m = 50000, \n",
    "\t\t\t\ty_loc_m = 0.0,\n",
    "\t\t\t\tz_loc_m = 10000, \n",
    "\t\t\t\tx_vel_mps = 0.0,\n",
    "\t\t\t\ty_vel_mps = 0.0,\n",
    "\t\t\t\tz_vel_mps = 0.0,\n",
    "\t\t\t\tx_acc_mps2 = 0.0,\n",
    "\t\t\t\ty_acc_mps2 = 0.0,\n",
    "\t\t\t\tz_acc_mps2 = 0.0,\n",
    "\t\t\t\t\n",
    "\t\t\t\t#Signature\n",
    "\t\t\t\tradar_cross_section_dbsm = 0):\n",
    "\t\t\t\t\t\n",
    "\t\tself.state = np.array([x_loc_m,y_loc_m,z_loc_m,x_vel_mps,y_vel_mps,z_vel_mps]) \n",
    "\t\tself.rcs_dbsm = 0\n",
    "\t\tself.rcs_lin = 10**(self.rcs_dbsm/10)\n",
    "\t\t\t\n",
    "\tdef get_scatterer_entity_geo(self,entity):\n",
    "\t\t''' \n",
    "\t\tx, y, and z distance relative to some entity, i.e. a transmitter.\n",
    "\t\t'''\n",
    "\t\tx = self.state[0] - entity.state[0]\n",
    "\t\ty = self.state[1] - entity.state[1]\n",
    "\t\tz = self.state[2] - entity.state[2]\n",
    "\t\tzoa = np.arctan(np.sqrt(x**2 + y**2)/z)\n",
    "\t\taoa = np.sign(y) * np.arccos(x/np.sqrt(x**2 + y**2))\n",
    "\t\td = np.sqrt((x)**2 + (y)**2 + (z)**2)\n",
    "\t\treturn zoa,aoa,d"
   ]
  },
  {
   "cell_type": "markdown",
   "id": "934b7b54",
   "metadata": {},
   "source": [
    "Finally, make a class called ```Simulation``` that acts as a common namespace and execution environment for your created entities. In the ```process_environment``` method, not the first few lines of code correspond to the previous Problem in that we set up the delay of the signal return."
   ]
  },
  {
   "cell_type": "code",
   "execution_count": null,
   "id": "6fd6031a",
   "metadata": {},
   "outputs": [],
   "source": [
    "class Simulation:\n",
    "\t'''\n",
    "\tTop level simulation class for a 1v1 target vs track radar\n",
    "\t'''\n",
    "\tdef __init__(self):\n",
    "\t\n",
    "\t\tself.target = Scatterer()\n",
    "\t\t\t\t\t\t\t\t\n",
    "\t\tself.radar = Radar()\n",
    "\t\t\n",
    "\t\t\t\n",
    "\tdef run_sim(self):\n",
    "\t\twf_object = self.radar.mywf\n",
    "\t\tx = self.radar.transmitter.transmit_waveform(wf_object)\n",
    "\t\t\n",
    "\t\t#Truth target information\n",
    "\t\tzoa,aoa,d = self.target.get_scatterer_entity_geo(self.radar.transmitter)\n",
    "\t\tdistance_samples_skin_return_m = np.arange(wf_object.samples_per_cpi_rf) / self.radar.receiver.Fs_rf * 3e8/2\n",
    "\t\t\n",
    "\t\tmin_range_sample_to_d = np.argmin(np.abs(distance_samples_skin_return_m-d))\n",
    "\t\t\n",
    "\t\t#Truncate return signals outside cpi\n",
    "\t\tx = x[:(wf_object.samples_per_cpi_rf-min_range_sample_to_d)]\n",
    "\t\t\n",
    "\t\tx = np.concatenate([np.zeros(wf_object.samples_per_cpi_rf-len(x)) + 0.0j,x])\n",
    "\t\t\n",
    "\t\t\t\n",
    "\t\t#RRE\n",
    "\t\tG2 = 10**(30/10) #placeholder gain for antenna transmit and receive\n",
    "\t\tx = x * np.sqrt( G2 * (3e8/self.radar.transmitter.fc_rf)**2 * self.target.rcs_lin / d**4  / (4*np.pi)**3)\n",
    "\t\t\n",
    "\t\tx = self.radar.receiver.process_signal(x,wf_object)\n",
    "\t\tprint(f'Maximum Distance: {np.max(distance_samples_skin_return_m)}, Target Distance: {d}')\n",
    "\t\treturn x"
   ]
  },
  {
   "cell_type": "markdown",
   "id": "ab431257",
   "metadata": {},
   "source": [
    "Instantiate an instance of ```Simulation``` and run ```run_sim```\n",
    "\n",
    "![Alt text](../figs/sim_test.png?raw=true)\n",
    "\n",
    "# Problem 5\n",
    "\n",
    "How do we detect a signal out of noise?  While there is a lot of interesting mathematics within Detection Theory, we defer the interested reader to [3] for more detail.  \n",
    "\n",
    "In general for a detection problem, we are interested in three quantities defined in [3]\n",
    "\n",
    "* Probability of Detection ($P_D$): The probability that a target IS declared when a target IS in fact present.\n",
    "* Probability of False Alarm ($P_{FA}$): The probability that a target IS declared when a target is in fact NOT present.\n",
    "* Probability of Missed Detection ($P_{MD}$): The probability that a target is NOT declared when a target IS in fact present.\n",
    "\n",
    "A good detector will maximize $P_D$, based on a user-choosen $P_{FA}$ as to not cause too many missed detections.  For now, we apply a barebones detector known as a Constant False Alarm Rate (CFAR), that works by comparing averages of sections of the return signal with itself.  In particular, we use the Cell- Averaging (CA) CFAR from Section 6.5.4 of [3], which calculated a threshold based on the samples around the \"tested cell\".  We require two pieces\n",
    "\n",
    "* Moving Window Average of samples\n",
    "* Constant to scale the threshold\n",
    "\n",
    "The moving windows consists of reference cells, $x_i$, and guard cells that are indicated by respective colors for 1D and 2D CFARs, for this portion, we only are concerned with 1D CFARs.\n",
    "\n",
    "![Alt text](../figs/cfar_windows.png?raw=true)\n",
    "\n",
    "We compute the moving window average of $N$ reference cells as \n",
    "\n",
    "$$T_N = \\frac{1}{N}\\sum_{i = 1}^N |x_i|$$\n",
    "\n",
    "for a linear detector, and \n",
    "\n",
    "$$T_N = \\frac{1}{N}\\sum_{i = 1}^N |x_i|^2$$\n",
    "\n",
    "for a square law detector.  As an array, a sliding window with 5 reference cells (one-sided, $N = 10$) and 2 guard cells (one sided) looks like"
   ]
  },
  {
   "cell_type": "code",
   "execution_count": null,
   "id": "3389363e",
   "metadata": {},
   "outputs": [],
   "source": [
    "sliding_window = 1/10 * np.array([1,1,1,1,1,0,0,0,0,0,1,1,1,1,1])"
   ]
  },
  {
   "cell_type": "markdown",
   "id": "77065961",
   "metadata": {},
   "source": [
    "The middle element is the cell under test (CUT).\n",
    "\n",
    "\n",
    "We choose the CFAR constant based on a designer choice of $P_{FA}$, a value $1e-3 \\leq P_{FA} \\leq 1e-8$ is appropriate, depending on the design, we'll go for $P_{FA} = 1e-6$ here.  We compute the constant by\n",
    "\n",
    "$$\\alpha = N(P_{FA}^{-1/N} -1)$$\n",
    "\n",
    "The CFAR class wrapper for a CA 1D is"
   ]
  },
  {
   "cell_type": "code",
   "execution_count": null,
   "id": "3b7278f1",
   "metadata": {},
   "outputs": [],
   "source": [
    "class CA_CFAR1D:\n",
    "\tdef __init__(self,num_reference_cells_one_sided,\n",
    "\t\t\t\t  num_guard_cells_one_sided,\n",
    "\t\t\t\t  probability_of_false_alarm):\n",
    "\t\tself.num_ref = num_reference_cells_one_sided\n",
    "\t\tself.num_guard = num_guard_cells_one_sided\n",
    "\t\tself.pfa = probability_of_false_alarm\n",
    "\t\t\n",
    "\t\tN = 2 * num_reference_cells_one_sided\n",
    "\t\tself.cfar_constant = N * (probability_of_false_alarm**(-1/N) -1)\n",
    "\t\tself.cfar_window = self.cfar_constant/N * np.concatenate([np.ones(self.num_ref),np.zeros(2*self.num_guard+ 1),np.ones(self.num_ref)])\n",
    "\t\t\n",
    "\tdef calculate_cfar_thresh(self,x):\n",
    "\t\treturn np.convolve(x,self.cfar_window, mode = 'same')\n",
    "\t\n",
    "\tdef build_detection_vector(self,x):\n",
    "\t\tT = self.calculate_cfar_thresh(x)\n",
    "\t\tdet_vec = np.zeros(len(x)).astype('int')\n",
    "\t\tdet_vec[x>T] = 1\n",
    "\t\treturn det_vec"
   ]
  },
  {
   "cell_type": "markdown",
   "id": "9882a5d4",
   "metadata": {},
   "source": [
    "Add the following args and kwarg to your ```Receiver``` class\n",
    "\n",
    "* ```reference_cells_one_sided = 30```\n",
    "* ```guard_cells_one_sided = 5```\n",
    "* ```probability_false_alarm = 1e-6```\n",
    "* ```detector_type = 'square'```\n",
    "\n",
    "along with an attribute"
   ]
  },
  {
   "cell_type": "code",
   "execution_count": null,
   "id": "1eb33d3b",
   "metadata": {},
   "outputs": [],
   "source": [
    "self.det_type = detector_type"
   ]
  },
  {
   "cell_type": "markdown",
   "id": "b1f98028",
   "metadata": {},
   "source": [
    "and within the ```__init__``` method, add"
   ]
  },
  {
   "cell_type": "code",
   "execution_count": null,
   "id": "6d0b0c22",
   "metadata": {},
   "outputs": [],
   "source": [
    "self.cfar = CA_CFAR1D(reference_cells_one_sided, guard_cells_one_sided,probability_false_alarm)"
   ]
  },
  {
   "cell_type": "markdown",
   "id": "ec0726e2",
   "metadata": {},
   "source": [
    "Also add the following methods to ```Receiver``` class"
   ]
  },
  {
   "cell_type": "code",
   "execution_count": null,
   "id": "260108ad",
   "metadata": {},
   "outputs": [],
   "source": [
    "    def detector(self,x):\n",
    "\t\tx = np.abs(x)\n",
    "\t\tif self.det_type == 'square': x = x**2\n",
    "\t\treturn x\n",
    "\t\t\n",
    "\tdef detect_single_signal(self,x):\n",
    "\t\tx = self.detector(x)\n",
    "\t\tT = self.cfar.calculate_cfar_thresh(x)\n",
    "\t\treturn x,T"
   ]
  },
  {
   "cell_type": "markdown",
   "id": "7448407b",
   "metadata": {},
   "source": [
    "Finally, in the ```process_signal``` method for ```Receiver``` add the following line after your matched filter application"
   ]
  },
  {
   "cell_type": "code",
   "execution_count": null,
   "id": "9cf3ff5f",
   "metadata": {},
   "outputs": [],
   "source": [
    "x,T = self.detect_single_signal(x)"
   ]
  },
  {
   "cell_type": "code",
   "execution_count": null,
   "id": "30db9bb2",
   "metadata": {},
   "outputs": [],
   "source": [
    "\tdef process_signal(self,x,wf_object):\n",
    "\t\tx = self.apply_rf2if_filter(x) #Can be bypassed if you don't have anything out of band.\n",
    "\t\tx = x[::self.rf2if_ds]\n",
    "\t\tx = self.add_receiver_noise(x)\n",
    "\t\tx = self.apply_adc_filter(x)\n",
    "\t\tx = x * np.exp(-1j*2*np.pi/self.Fs_if * self.fc_if *np.arange(len(x)))\n",
    "\t\tx = wf_object.apply_bb_filter(x)\n",
    "\t\tx = x[::self.if2bb_ds]\n",
    "\t\t\n",
    "\t\tx = np.convolve(x,np.conj(wf_object.mf_wf_bb), mode = 'same')\n",
    "\t\t#####NEW##################\n",
    "\t\tx,T = self.detect_single_signal(x)\n",
    "\t\t##########################\n",
    "\t\t\n",
    "\t\treturn x,T"
   ]
  },
  {
   "cell_type": "markdown",
   "id": "bedd496f",
   "metadata": {},
   "source": [
    "Run the radar with your new CFAR detector and plot the threshold and signal.\n",
    "\n",
    "![Alt text](../figs/cfar_test.png?raw=true)\n",
    "\n",
    "Zoom in on the spike, unless you initialized your random number generator ```np.random.seed(seed = 0)```, your results may look slightly different. Note that the processed signal (blue line) does not exceed the threshold (orange line).  This situation results in a missed detection.\n",
    "\n",
    "![Alt text](../figs/cfar_demo_zoomed.png?raw=true)\n",
    "\n",
    "Incrementally add more transmitter power, increments of 1000 should be ok (i.e., go from 1000 to 2000 to 3000...) until you break the threshold.  This is just one way in which a receiver may be tuned, feel free to play with other parameters and see their effects.\n",
    "\n",
    "![Alt text](../figs/cfar_demo_zoomed_break.png?raw=true)\n",
    "\n",
    "Use the ```build_detection_vector``` method for your ```CACFAR_1D``` class to generate a binary array indicating where the signal breaks the threshold.\n",
    "\n",
    "![Alt text](../figs/det_vec.png?raw=true)\n",
    "\n",
    "Congratulations, you have now turned bits into symbols and turned symbols into bits!  You have a toolkit to construct basic generic single-pulse radars!\n",
    "\n",
    "![Alt text](../figs/lab2_diagram.png?raw=true)"
   ]
  }
 ],
 "metadata": {},
 "nbformat": 4,
 "nbformat_minor": 5
}
